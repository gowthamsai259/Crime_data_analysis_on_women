{
 "cells": [
  {
   "cell_type": "code",
   "execution_count": 1,
   "id": "e56e8709",
   "metadata": {},
   "outputs": [],
   "source": [
    "import pandas as pd # importing the libraries\n",
    "import numpy as np"
   ]
  },
  {
   "cell_type": "code",
   "execution_count": 2,
   "id": "a1762ac5",
   "metadata": {},
   "outputs": [],
   "source": [
    "data = pd.read_csv('crimes_against_women_2001-2014.csv')"
   ]
  },
  {
   "cell_type": "code",
   "execution_count": 3,
   "id": "d243ca70",
   "metadata": {
    "scrolled": true
   },
   "outputs": [
    {
     "data": {
      "text/html": [
       "<div>\n",
       "<style scoped>\n",
       "    .dataframe tbody tr th:only-of-type {\n",
       "        vertical-align: middle;\n",
       "    }\n",
       "\n",
       "    .dataframe tbody tr th {\n",
       "        vertical-align: top;\n",
       "    }\n",
       "\n",
       "    .dataframe thead th {\n",
       "        text-align: right;\n",
       "    }\n",
       "</style>\n",
       "<table border=\"1\" class=\"dataframe\">\n",
       "  <thead>\n",
       "    <tr style=\"text-align: right;\">\n",
       "      <th></th>\n",
       "      <th>Unnamed: 0</th>\n",
       "      <th>STATE/UT</th>\n",
       "      <th>DISTRICT</th>\n",
       "      <th>Year</th>\n",
       "      <th>Rape</th>\n",
       "      <th>Kidnapping and Abduction</th>\n",
       "      <th>Dowry Deaths</th>\n",
       "      <th>Assault on women with intent to outrage her modesty</th>\n",
       "      <th>Insult to modesty of Women</th>\n",
       "      <th>Cruelty by Husband or his Relatives</th>\n",
       "      <th>Importation of Girls</th>\n",
       "    </tr>\n",
       "  </thead>\n",
       "  <tbody>\n",
       "    <tr>\n",
       "      <th>0</th>\n",
       "      <td>0</td>\n",
       "      <td>ANDHRA PRADESH</td>\n",
       "      <td>ADILABAD</td>\n",
       "      <td>2001</td>\n",
       "      <td>50</td>\n",
       "      <td>30</td>\n",
       "      <td>16</td>\n",
       "      <td>149</td>\n",
       "      <td>34</td>\n",
       "      <td>175</td>\n",
       "      <td>0</td>\n",
       "    </tr>\n",
       "    <tr>\n",
       "      <th>1</th>\n",
       "      <td>1</td>\n",
       "      <td>ANDHRA PRADESH</td>\n",
       "      <td>ANANTAPUR</td>\n",
       "      <td>2001</td>\n",
       "      <td>23</td>\n",
       "      <td>30</td>\n",
       "      <td>7</td>\n",
       "      <td>118</td>\n",
       "      <td>24</td>\n",
       "      <td>154</td>\n",
       "      <td>0</td>\n",
       "    </tr>\n",
       "    <tr>\n",
       "      <th>2</th>\n",
       "      <td>2</td>\n",
       "      <td>ANDHRA PRADESH</td>\n",
       "      <td>CHITTOOR</td>\n",
       "      <td>2001</td>\n",
       "      <td>27</td>\n",
       "      <td>34</td>\n",
       "      <td>14</td>\n",
       "      <td>112</td>\n",
       "      <td>83</td>\n",
       "      <td>186</td>\n",
       "      <td>0</td>\n",
       "    </tr>\n",
       "    <tr>\n",
       "      <th>3</th>\n",
       "      <td>3</td>\n",
       "      <td>ANDHRA PRADESH</td>\n",
       "      <td>CUDDAPAH</td>\n",
       "      <td>2001</td>\n",
       "      <td>20</td>\n",
       "      <td>20</td>\n",
       "      <td>17</td>\n",
       "      <td>126</td>\n",
       "      <td>38</td>\n",
       "      <td>57</td>\n",
       "      <td>0</td>\n",
       "    </tr>\n",
       "    <tr>\n",
       "      <th>4</th>\n",
       "      <td>4</td>\n",
       "      <td>ANDHRA PRADESH</td>\n",
       "      <td>EAST GODAVARI</td>\n",
       "      <td>2001</td>\n",
       "      <td>23</td>\n",
       "      <td>26</td>\n",
       "      <td>12</td>\n",
       "      <td>109</td>\n",
       "      <td>58</td>\n",
       "      <td>247</td>\n",
       "      <td>0</td>\n",
       "    </tr>\n",
       "  </tbody>\n",
       "</table>\n",
       "</div>"
      ],
      "text/plain": [
       "   Unnamed: 0        STATE/UT       DISTRICT  Year  Rape  \\\n",
       "0           0  ANDHRA PRADESH       ADILABAD  2001    50   \n",
       "1           1  ANDHRA PRADESH      ANANTAPUR  2001    23   \n",
       "2           2  ANDHRA PRADESH       CHITTOOR  2001    27   \n",
       "3           3  ANDHRA PRADESH       CUDDAPAH  2001    20   \n",
       "4           4  ANDHRA PRADESH  EAST GODAVARI  2001    23   \n",
       "\n",
       "   Kidnapping and Abduction  Dowry Deaths  \\\n",
       "0                        30            16   \n",
       "1                        30             7   \n",
       "2                        34            14   \n",
       "3                        20            17   \n",
       "4                        26            12   \n",
       "\n",
       "   Assault on women with intent to outrage her modesty  \\\n",
       "0                                                149     \n",
       "1                                                118     \n",
       "2                                                112     \n",
       "3                                                126     \n",
       "4                                                109     \n",
       "\n",
       "   Insult to modesty of Women  Cruelty by Husband or his Relatives  \\\n",
       "0                          34                                  175   \n",
       "1                          24                                  154   \n",
       "2                          83                                  186   \n",
       "3                          38                                   57   \n",
       "4                          58                                  247   \n",
       "\n",
       "   Importation of Girls  \n",
       "0                     0  \n",
       "1                     0  \n",
       "2                     0  \n",
       "3                     0  \n",
       "4                     0  "
      ]
     },
     "execution_count": 3,
     "metadata": {},
     "output_type": "execute_result"
    }
   ],
   "source": [
    "data.head()"
   ]
  },
  {
   "cell_type": "code",
   "execution_count": 4,
   "id": "9be8685b",
   "metadata": {},
   "outputs": [
    {
     "data": {
      "text/plain": [
       "Index(['Unnamed: 0', 'STATE/UT', 'DISTRICT', 'Year', 'Rape',\n",
       "       'Kidnapping and Abduction', 'Dowry Deaths',\n",
       "       'Assault on women with intent to outrage her modesty',\n",
       "       'Insult to modesty of Women', 'Cruelty by Husband or his Relatives',\n",
       "       'Importation of Girls'],\n",
       "      dtype='object')"
      ]
     },
     "execution_count": 4,
     "metadata": {},
     "output_type": "execute_result"
    }
   ],
   "source": [
    "data.columns"
   ]
  },
  {
   "cell_type": "code",
   "execution_count": 5,
   "id": "82834bb2",
   "metadata": {},
   "outputs": [],
   "source": [
    "data.drop('Unnamed: 0',axis = 1, inplace = True)"
   ]
  },
  {
   "cell_type": "code",
   "execution_count": 6,
   "id": "99dc6d19",
   "metadata": {},
   "outputs": [
    {
     "data": {
      "text/plain": [
       "array(['ANDHRA PRADESH', 'ARUNACHAL PRADESH', 'ASSAM', 'BIHAR',\n",
       "       'CHHATTISGARH', 'GOA', 'GUJARAT', 'HARYANA', 'HIMACHAL PRADESH',\n",
       "       'JAMMU & KASHMIR', 'JHARKHAND', 'KARNATAKA', 'KERALA',\n",
       "       'MADHYA PRADESH', 'MAHARASHTRA', 'MANIPUR', 'MEGHALAYA', 'MIZORAM',\n",
       "       'NAGALAND', 'ODISHA', 'PUNJAB', 'RAJASTHAN', 'SIKKIM',\n",
       "       'TAMIL NADU', 'TRIPURA', 'UTTAR PRADESH', 'UTTARAKHAND',\n",
       "       'WEST BENGAL', 'A & N ISLANDS', 'CHANDIGARH', 'D & N HAVELI',\n",
       "       'DAMAN & DIU', 'DELHI', 'LAKSHADWEEP', 'PUDUCHERRY',\n",
       "       'Andhra Pradesh', 'Arunachal Pradesh', 'Assam', 'Bihar',\n",
       "       'Chhattisgarh', 'Goa', 'Gujarat', 'Haryana', 'Himachal Pradesh',\n",
       "       'Jammu & Kashmir', 'Jharkhand', 'Karnataka', 'Kerala',\n",
       "       'Madhya Pradesh', 'Maharashtra', 'Manipur', 'Meghalaya', 'Mizoram',\n",
       "       'Nagaland', 'Odisha', 'Punjab', 'Rajasthan', 'Sikkim',\n",
       "       'Tamil Nadu', 'Tripura', 'Uttar Pradesh', 'Uttarakhand',\n",
       "       'West Bengal', 'A&N Islands', 'Chandigarh', 'D&N Haveli',\n",
       "       'Daman & Diu', 'Delhi UT', 'Lakshadweep', 'Puducherry',\n",
       "       'Telangana', 'A & N Islands'], dtype=object)"
      ]
     },
     "execution_count": 6,
     "metadata": {},
     "output_type": "execute_result"
    }
   ],
   "source": [
    "(data['STATE/UT'].unique())"
   ]
  },
  {
   "cell_type": "code",
   "execution_count": 7,
   "id": "f053791d",
   "metadata": {},
   "outputs": [],
   "source": [
    "def small(sent):\n",
    "    q = \"\"\n",
    "    for i in sent:\n",
    "        if i != \" \":\n",
    "            q += i.lower()\n",
    "    return q"
   ]
  },
  {
   "cell_type": "code",
   "execution_count": 8,
   "id": "02c6a7fe",
   "metadata": {},
   "outputs": [
    {
     "name": "stderr",
     "output_type": "stream",
     "text": [
      "c:\\users\\gowthsm\\appdata\\local\\programs\\python\\python37\\lib\\site-packages\\ipykernel_launcher.py:2: SettingWithCopyWarning: \n",
      "A value is trying to be set on a copy of a slice from a DataFrame\n",
      "\n",
      "See the caveats in the documentation: https://pandas.pydata.org/pandas-docs/stable/user_guide/indexing.html#returning-a-view-versus-a-copy\n",
      "  \n"
     ]
    }
   ],
   "source": [
    "for i in range(len(data['STATE/UT'])): # Correcting the Spellings of the values in the columns\n",
    "    data['STATE/UT'][i] = small(data['STATE/UT'][i])"
   ]
  },
  {
   "cell_type": "code",
   "execution_count": 9,
   "id": "85aab664",
   "metadata": {},
   "outputs": [
    {
     "data": {
      "text/html": [
       "<div>\n",
       "<style scoped>\n",
       "    .dataframe tbody tr th:only-of-type {\n",
       "        vertical-align: middle;\n",
       "    }\n",
       "\n",
       "    .dataframe tbody tr th {\n",
       "        vertical-align: top;\n",
       "    }\n",
       "\n",
       "    .dataframe thead th {\n",
       "        text-align: right;\n",
       "    }\n",
       "</style>\n",
       "<table border=\"1\" class=\"dataframe\">\n",
       "  <thead>\n",
       "    <tr style=\"text-align: right;\">\n",
       "      <th></th>\n",
       "      <th>STATE/UT</th>\n",
       "      <th>DISTRICT</th>\n",
       "      <th>Year</th>\n",
       "      <th>Rape</th>\n",
       "      <th>Kidnapping and Abduction</th>\n",
       "      <th>Dowry Deaths</th>\n",
       "      <th>Assault on women with intent to outrage her modesty</th>\n",
       "      <th>Insult to modesty of Women</th>\n",
       "      <th>Cruelty by Husband or his Relatives</th>\n",
       "      <th>Importation of Girls</th>\n",
       "    </tr>\n",
       "  </thead>\n",
       "  <tbody>\n",
       "    <tr>\n",
       "      <th>0</th>\n",
       "      <td>andhrapradesh</td>\n",
       "      <td>ADILABAD</td>\n",
       "      <td>2001</td>\n",
       "      <td>50</td>\n",
       "      <td>30</td>\n",
       "      <td>16</td>\n",
       "      <td>149</td>\n",
       "      <td>34</td>\n",
       "      <td>175</td>\n",
       "      <td>0</td>\n",
       "    </tr>\n",
       "    <tr>\n",
       "      <th>1</th>\n",
       "      <td>andhrapradesh</td>\n",
       "      <td>ANANTAPUR</td>\n",
       "      <td>2001</td>\n",
       "      <td>23</td>\n",
       "      <td>30</td>\n",
       "      <td>7</td>\n",
       "      <td>118</td>\n",
       "      <td>24</td>\n",
       "      <td>154</td>\n",
       "      <td>0</td>\n",
       "    </tr>\n",
       "    <tr>\n",
       "      <th>2</th>\n",
       "      <td>andhrapradesh</td>\n",
       "      <td>CHITTOOR</td>\n",
       "      <td>2001</td>\n",
       "      <td>27</td>\n",
       "      <td>34</td>\n",
       "      <td>14</td>\n",
       "      <td>112</td>\n",
       "      <td>83</td>\n",
       "      <td>186</td>\n",
       "      <td>0</td>\n",
       "    </tr>\n",
       "    <tr>\n",
       "      <th>3</th>\n",
       "      <td>andhrapradesh</td>\n",
       "      <td>CUDDAPAH</td>\n",
       "      <td>2001</td>\n",
       "      <td>20</td>\n",
       "      <td>20</td>\n",
       "      <td>17</td>\n",
       "      <td>126</td>\n",
       "      <td>38</td>\n",
       "      <td>57</td>\n",
       "      <td>0</td>\n",
       "    </tr>\n",
       "    <tr>\n",
       "      <th>4</th>\n",
       "      <td>andhrapradesh</td>\n",
       "      <td>EAST GODAVARI</td>\n",
       "      <td>2001</td>\n",
       "      <td>23</td>\n",
       "      <td>26</td>\n",
       "      <td>12</td>\n",
       "      <td>109</td>\n",
       "      <td>58</td>\n",
       "      <td>247</td>\n",
       "      <td>0</td>\n",
       "    </tr>\n",
       "  </tbody>\n",
       "</table>\n",
       "</div>"
      ],
      "text/plain": [
       "        STATE/UT       DISTRICT  Year  Rape  Kidnapping and Abduction  \\\n",
       "0  andhrapradesh       ADILABAD  2001    50                        30   \n",
       "1  andhrapradesh      ANANTAPUR  2001    23                        30   \n",
       "2  andhrapradesh       CHITTOOR  2001    27                        34   \n",
       "3  andhrapradesh       CUDDAPAH  2001    20                        20   \n",
       "4  andhrapradesh  EAST GODAVARI  2001    23                        26   \n",
       "\n",
       "   Dowry Deaths  Assault on women with intent to outrage her modesty  \\\n",
       "0            16                                                149     \n",
       "1             7                                                118     \n",
       "2            14                                                112     \n",
       "3            17                                                126     \n",
       "4            12                                                109     \n",
       "\n",
       "   Insult to modesty of Women  Cruelty by Husband or his Relatives  \\\n",
       "0                          34                                  175   \n",
       "1                          24                                  154   \n",
       "2                          83                                  186   \n",
       "3                          38                                   57   \n",
       "4                          58                                  247   \n",
       "\n",
       "   Importation of Girls  \n",
       "0                     0  \n",
       "1                     0  \n",
       "2                     0  \n",
       "3                     0  \n",
       "4                     0  "
      ]
     },
     "execution_count": 9,
     "metadata": {},
     "output_type": "execute_result"
    }
   ],
   "source": [
    "data.head()"
   ]
  },
  {
   "cell_type": "code",
   "execution_count": 10,
   "id": "d97ad1f8",
   "metadata": {},
   "outputs": [
    {
     "data": {
      "text/plain": [
       "array(['andhrapradesh', 'arunachalpradesh', 'assam', 'bihar',\n",
       "       'chhattisgarh', 'goa', 'gujarat', 'haryana', 'himachalpradesh',\n",
       "       'jammu&kashmir', 'jharkhand', 'karnataka', 'kerala',\n",
       "       'madhyapradesh', 'maharashtra', 'manipur', 'meghalaya', 'mizoram',\n",
       "       'nagaland', 'odisha', 'punjab', 'rajasthan', 'sikkim', 'tamilnadu',\n",
       "       'tripura', 'uttarpradesh', 'uttarakhand', 'westbengal',\n",
       "       'a&nislands', 'chandigarh', 'd&nhaveli', 'daman&diu', 'delhi',\n",
       "       'lakshadweep', 'puducherry', 'delhiut', 'telangana'], dtype=object)"
      ]
     },
     "execution_count": 10,
     "metadata": {},
     "output_type": "execute_result"
    }
   ],
   "source": [
    "(data['STATE/UT'].unique())"
   ]
  },
  {
   "cell_type": "code",
   "execution_count": 11,
   "id": "34a81b62",
   "metadata": {},
   "outputs": [
    {
     "name": "stderr",
     "output_type": "stream",
     "text": [
      "c:\\users\\gowthsm\\appdata\\local\\programs\\python\\python37\\lib\\site-packages\\ipykernel_launcher.py:3: SettingWithCopyWarning: \n",
      "A value is trying to be set on a copy of a slice from a DataFrame\n",
      "\n",
      "See the caveats in the documentation: https://pandas.pydata.org/pandas-docs/stable/user_guide/indexing.html#returning-a-view-versus-a-copy\n",
      "  This is separate from the ipykernel package so we can avoid doing imports until\n"
     ]
    },
    {
     "data": {
      "text/plain": [
       "array(['andhrapradesh', 'arunachalpradesh', 'assam', 'bihar',\n",
       "       'chhattisgarh', 'goa', 'gujarat', 'haryana', 'himachalpradesh',\n",
       "       'jammu&kashmir', 'jharkhand', 'karnataka', 'kerala',\n",
       "       'madhyapradesh', 'maharashtra', 'manipur', 'meghalaya', 'mizoram',\n",
       "       'nagaland', 'odisha', 'punjab', 'rajasthan', 'sikkim', 'tamilnadu',\n",
       "       'tripura', 'uttarpradesh', 'uttarakhand', 'westbengal',\n",
       "       'a&nislands', 'chandigarh', 'd&nhaveli', 'daman&diu', 'delhi',\n",
       "       'lakshadweep', 'puducherry', 'telangana'], dtype=object)"
      ]
     },
     "execution_count": 11,
     "metadata": {},
     "output_type": "execute_result"
    }
   ],
   "source": [
    "for i in range(len(data['STATE/UT'])):\n",
    "    if data['STATE/UT'][i] == 'delhiut':\n",
    "        data['STATE/UT'][i] = 'delhi'\n",
    "data['STATE/UT'].unique()"
   ]
  },
  {
   "cell_type": "code",
   "execution_count": 12,
   "id": "3d714de0",
   "metadata": {},
   "outputs": [
    {
     "data": {
      "text/plain": [
       "36"
      ]
     },
     "execution_count": 12,
     "metadata": {},
     "output_type": "execute_result"
    }
   ],
   "source": [
    "len(data['STATE/UT'].unique())"
   ]
  },
  {
   "cell_type": "markdown",
   "id": "41395020",
   "metadata": {},
   "source": [
    "# ------------------------- Dividing the rows based on the year ---------------------------------"
   ]
  },
  {
   "cell_type": "code",
   "execution_count": 13,
   "id": "c45b9cef",
   "metadata": {},
   "outputs": [],
   "source": [
    "column_names = ['STATE/UT', 'DISTRICT', 'Rape',\n",
    "       'Kidnapping and Abduction', 'Dowry Deaths',\n",
    "       'Assault on women with intent to outrage her modesty',\n",
    "       'Insult to modesty of Women', 'Cruelty by Husband or his Relatives',\n",
    "       'Importation of Girls']"
   ]
  },
  {
   "cell_type": "code",
   "execution_count": 14,
   "id": "8f7eed38",
   "metadata": {},
   "outputs": [],
   "source": [
    "df1 = pd.DataFrame(columns = column_names)"
   ]
  },
  {
   "cell_type": "code",
   "execution_count": 15,
   "id": "1bfdf035",
   "metadata": {},
   "outputs": [],
   "source": [
    "for i in range(len(data['STATE/UT'])):\n",
    "    if data['Year'][i] == 2001:\n",
    "        p = data['STATE/UT'][i]\n",
    "        q = data['DISTRICT'][i]\n",
    "        r = data['Rape'][i]\n",
    "        s = data['Kidnapping and Abduction'][i]\n",
    "        t = data['Dowry Deaths'][i]\n",
    "        u = data['Assault on women with intent to outrage her modesty'][i]\n",
    "        v = data['Insult to modesty of Women'][i]\n",
    "        w = data['Cruelty by Husband or his Relatives'][i]\n",
    "        x = data['Importation of Girls'][i]\n",
    "        rows = [p,q,r,s,t,u,v,w,x]\n",
    "\n",
    "        # create the DataFrame from the NumPy array\n",
    "        df1 = df1.append(pd.Series(rows, index=df1.columns), ignore_index=True)"
   ]
  },
  {
   "cell_type": "code",
   "execution_count": 16,
   "id": "300b1ff8",
   "metadata": {},
   "outputs": [],
   "source": [
    "df2 = pd.DataFrame(columns = column_names)"
   ]
  },
  {
   "cell_type": "code",
   "execution_count": 17,
   "id": "690dfbdc",
   "metadata": {},
   "outputs": [],
   "source": [
    "for i in range(len(data['STATE/UT'])):\n",
    "    if data['Year'][i] == 2002:\n",
    "        p = data['STATE/UT'][i]\n",
    "        q = data['DISTRICT'][i]\n",
    "        r = data['Rape'][i]\n",
    "        s = data['Kidnapping and Abduction'][i]\n",
    "        t = data['Dowry Deaths'][i]\n",
    "        u = data['Assault on women with intent to outrage her modesty'][i]\n",
    "        v = data['Insult to modesty of Women'][i]\n",
    "        w = data['Cruelty by Husband or his Relatives'][i]\n",
    "        x = data['Importation of Girls'][i]\n",
    "        rows = [p,q,r,s,t,u,v,w,x]\n",
    "\n",
    "        # create the DataFrame from the NumPy array\n",
    "        df2 = df2.append(pd.Series(rows, index=df2.columns), ignore_index=True)"
   ]
  },
  {
   "cell_type": "code",
   "execution_count": 18,
   "id": "717cf2b2",
   "metadata": {},
   "outputs": [],
   "source": [
    "df3 = pd.DataFrame(columns = column_names)"
   ]
  },
  {
   "cell_type": "code",
   "execution_count": 19,
   "id": "65423746",
   "metadata": {},
   "outputs": [],
   "source": [
    "for i in range(len(data['STATE/UT'])):\n",
    "    if data['Year'][i] == 2003:\n",
    "        p = data['STATE/UT'][i]\n",
    "        q = data['DISTRICT'][i]\n",
    "        r = data['Rape'][i]\n",
    "        s = data['Kidnapping and Abduction'][i]\n",
    "        t = data['Dowry Deaths'][i]\n",
    "        u = data['Assault on women with intent to outrage her modesty'][i]\n",
    "        v = data['Insult to modesty of Women'][i]\n",
    "        w = data['Cruelty by Husband or his Relatives'][i]\n",
    "        x = data['Importation of Girls'][i]\n",
    "        rows = [p,q,r,s,t,u,v,w,x]\n",
    "\n",
    "        # create the DataFrame from the NumPy array\n",
    "        df3 = df3.append(pd.Series(rows, index=df3.columns), ignore_index=True)"
   ]
  },
  {
   "cell_type": "code",
   "execution_count": 20,
   "id": "fbfb0155",
   "metadata": {},
   "outputs": [],
   "source": [
    "df4 = pd.DataFrame(columns = column_names)"
   ]
  },
  {
   "cell_type": "code",
   "execution_count": 21,
   "id": "9f54e188",
   "metadata": {},
   "outputs": [],
   "source": [
    "for i in range(len(data['STATE/UT'])):\n",
    "    if data['Year'][i] == 2004:\n",
    "        p = data['STATE/UT'][i]\n",
    "        q = data['DISTRICT'][i]\n",
    "        r = data['Rape'][i]\n",
    "        s = data['Kidnapping and Abduction'][i]\n",
    "        t = data['Dowry Deaths'][i]\n",
    "        u = data['Assault on women with intent to outrage her modesty'][i]\n",
    "        v = data['Insult to modesty of Women'][i]\n",
    "        w = data['Cruelty by Husband or his Relatives'][i]\n",
    "        x = data['Importation of Girls'][i]\n",
    "        rows = [p,q,r,s,t,u,v,w,x]\n",
    "\n",
    "        # create the DataFrame from the NumPy array\n",
    "        df4 = df4.append(pd.Series(rows, index=df4.columns), ignore_index=True)"
   ]
  },
  {
   "cell_type": "code",
   "execution_count": 22,
   "id": "90937e1e",
   "metadata": {},
   "outputs": [],
   "source": [
    "df5 = pd.DataFrame(columns = column_names)\n",
    "df6 = pd.DataFrame(columns = column_names)\n",
    "df7 = pd.DataFrame(columns = column_names)\n",
    "df8 = pd.DataFrame(columns = column_names)\n",
    "df9 = pd.DataFrame(columns = column_names)\n",
    "df10 = pd.DataFrame(columns = column_names)\n",
    "df11 = pd.DataFrame(columns = column_names)\n",
    "df12 = pd.DataFrame(columns = column_names)\n",
    "df13 = pd.DataFrame(columns = column_names)\n",
    "df14 = pd.DataFrame(columns = column_names)"
   ]
  },
  {
   "cell_type": "code",
   "execution_count": 23,
   "id": "53741057",
   "metadata": {},
   "outputs": [],
   "source": [
    "for i in range(len(data['STATE/UT'])):\n",
    "    if data['Year'][i] == 2005:\n",
    "        p = data['STATE/UT'][i]\n",
    "        q = data['DISTRICT'][i]\n",
    "        r = data['Rape'][i]\n",
    "        s = data['Kidnapping and Abduction'][i]\n",
    "        t = data['Dowry Deaths'][i]\n",
    "        u = data['Assault on women with intent to outrage her modesty'][i]\n",
    "        v = data['Insult to modesty of Women'][i]\n",
    "        w = data['Cruelty by Husband or his Relatives'][i]\n",
    "        x = data['Importation of Girls'][i]\n",
    "        rows = [p,q,r,s,t,u,v,w,x]\n",
    "\n",
    "        # create the DataFrame from the NumPy array\n",
    "        df5 = df5.append(pd.Series(rows, index=df5.columns), ignore_index=True)"
   ]
  },
  {
   "cell_type": "code",
   "execution_count": 24,
   "id": "3be2ab51",
   "metadata": {},
   "outputs": [],
   "source": [
    "for i in range(len(data['STATE/UT'])):\n",
    "    if data['Year'][i] == 2006:\n",
    "        p = data['STATE/UT'][i]\n",
    "        q = data['DISTRICT'][i]\n",
    "        r = data['Rape'][i]\n",
    "        s = data['Kidnapping and Abduction'][i]\n",
    "        t = data['Dowry Deaths'][i]\n",
    "        u = data['Assault on women with intent to outrage her modesty'][i]\n",
    "        v = data['Insult to modesty of Women'][i]\n",
    "        w = data['Cruelty by Husband or his Relatives'][i]\n",
    "        x = data['Importation of Girls'][i]\n",
    "        rows = [p,q,r,s,t,u,v,w,x]\n",
    "\n",
    "        # create the DataFrame from the NumPy array\n",
    "        df6 = df6.append(pd.Series(rows, index=df6.columns), ignore_index=True)"
   ]
  },
  {
   "cell_type": "code",
   "execution_count": 25,
   "id": "41a4cd2d",
   "metadata": {},
   "outputs": [],
   "source": [
    "for i in range(len(data['STATE/UT'])):\n",
    "    if data['Year'][i] == 2007:\n",
    "        p = data['STATE/UT'][i]\n",
    "        q = data['DISTRICT'][i]\n",
    "        r = data['Rape'][i]\n",
    "        s = data['Kidnapping and Abduction'][i]\n",
    "        t = data['Dowry Deaths'][i]\n",
    "        u = data['Assault on women with intent to outrage her modesty'][i]\n",
    "        v = data['Insult to modesty of Women'][i]\n",
    "        w = data['Cruelty by Husband or his Relatives'][i]\n",
    "        x = data['Importation of Girls'][i]\n",
    "        rows = [p,q,r,s,t,u,v,w,x]\n",
    "\n",
    "        # create the DataFrame from the NumPy array\n",
    "        df7 = df7.append(pd.Series(rows, index=df7.columns), ignore_index=True)"
   ]
  },
  {
   "cell_type": "code",
   "execution_count": 26,
   "id": "44b3411d",
   "metadata": {},
   "outputs": [],
   "source": [
    "for i in range(len(data['STATE/UT'])):\n",
    "    if data['Year'][i] == 2008:\n",
    "        p = data['STATE/UT'][i]\n",
    "        q = data['DISTRICT'][i]\n",
    "        r = data['Rape'][i]\n",
    "        s = data['Kidnapping and Abduction'][i]\n",
    "        t = data['Dowry Deaths'][i]\n",
    "        u = data['Assault on women with intent to outrage her modesty'][i]\n",
    "        v = data['Insult to modesty of Women'][i]\n",
    "        w = data['Cruelty by Husband or his Relatives'][i]\n",
    "        x = data['Importation of Girls'][i]\n",
    "        rows = [p,q,r,s,t,u,v,w,x]\n",
    "\n",
    "        # create the DataFrame from the NumPy array\n",
    "        df8 = df8.append(pd.Series(rows, index=df8.columns), ignore_index=True)"
   ]
  },
  {
   "cell_type": "code",
   "execution_count": 27,
   "id": "6455b5da",
   "metadata": {},
   "outputs": [],
   "source": [
    "for i in range(len(data['STATE/UT'])):\n",
    "    if data['Year'][i] == 2009:\n",
    "        p = data['STATE/UT'][i]\n",
    "        q = data['DISTRICT'][i]\n",
    "        r = data['Rape'][i]\n",
    "        s = data['Kidnapping and Abduction'][i]\n",
    "        t = data['Dowry Deaths'][i]\n",
    "        u = data['Assault on women with intent to outrage her modesty'][i]\n",
    "        v = data['Insult to modesty of Women'][i]\n",
    "        w = data['Cruelty by Husband or his Relatives'][i]\n",
    "        x = data['Importation of Girls'][i]\n",
    "        rows = [p,q,r,s,t,u,v,w,x]\n",
    "\n",
    "        # create the DataFrame from the NumPy array\n",
    "        df9 = df9.append(pd.Series(rows, index=df9.columns), ignore_index=True)"
   ]
  },
  {
   "cell_type": "code",
   "execution_count": 28,
   "id": "52883c39",
   "metadata": {},
   "outputs": [],
   "source": [
    "for i in range(len(data['STATE/UT'])):\n",
    "    if data['Year'][i] == 2010:\n",
    "        p = data['STATE/UT'][i]\n",
    "        q = data['DISTRICT'][i]\n",
    "        r = data['Rape'][i]\n",
    "        s = data['Kidnapping and Abduction'][i]\n",
    "        t = data['Dowry Deaths'][i]\n",
    "        u = data['Assault on women with intent to outrage her modesty'][i]\n",
    "        v = data['Insult to modesty of Women'][i]\n",
    "        w = data['Cruelty by Husband or his Relatives'][i]\n",
    "        x = data['Importation of Girls'][i]\n",
    "        rows = [p,q,r,s,t,u,v,w,x]\n",
    "\n",
    "        # create the DataFrame from the NumPy array\n",
    "        df10 = df10.append(pd.Series(rows, index=df10.columns), ignore_index=True)"
   ]
  },
  {
   "cell_type": "code",
   "execution_count": 29,
   "id": "67715ea1",
   "metadata": {},
   "outputs": [],
   "source": [
    "for i in range(len(data['STATE/UT'])):\n",
    "    if data['Year'][i] == 2011:\n",
    "        p = data['STATE/UT'][i]\n",
    "        q = data['DISTRICT'][i]\n",
    "        r = data['Rape'][i]\n",
    "        s = data['Kidnapping and Abduction'][i]\n",
    "        t = data['Dowry Deaths'][i]\n",
    "        u = data['Assault on women with intent to outrage her modesty'][i]\n",
    "        v = data['Insult to modesty of Women'][i]\n",
    "        w = data['Cruelty by Husband or his Relatives'][i]\n",
    "        x = data['Importation of Girls'][i]\n",
    "        rows = [p,q,r,s,t,u,v,w,x]\n",
    "\n",
    "        # create the DataFrame from the NumPy array\n",
    "        df11 = df11.append(pd.Series(rows, index=df11.columns), ignore_index=True)"
   ]
  },
  {
   "cell_type": "code",
   "execution_count": 30,
   "id": "92fae505",
   "metadata": {},
   "outputs": [],
   "source": [
    "for i in range(len(data['STATE/UT'])):\n",
    "    if data['Year'][i] == 2012:\n",
    "        p = data['STATE/UT'][i]\n",
    "        q = data['DISTRICT'][i]\n",
    "        r = data['Rape'][i]\n",
    "        s = data['Kidnapping and Abduction'][i]\n",
    "        t = data['Dowry Deaths'][i]\n",
    "        u = data['Assault on women with intent to outrage her modesty'][i]\n",
    "        v = data['Insult to modesty of Women'][i]\n",
    "        w = data['Cruelty by Husband or his Relatives'][i]\n",
    "        x = data['Importation of Girls'][i]\n",
    "        rows = [p,q,r,s,t,u,v,w,x]\n",
    "\n",
    "        # create the DataFrame from the NumPy array\n",
    "        df12 = df12.append(pd.Series(rows, index=df12.columns), ignore_index=True)"
   ]
  },
  {
   "cell_type": "code",
   "execution_count": 31,
   "id": "5af4da78",
   "metadata": {},
   "outputs": [],
   "source": [
    "for i in range(len(data['STATE/UT'])):\n",
    "    if data['Year'][i] == 2013:\n",
    "        p = data['STATE/UT'][i]\n",
    "        q = data['DISTRICT'][i]\n",
    "        r = data['Rape'][i]\n",
    "        s = data['Kidnapping and Abduction'][i]\n",
    "        t = data['Dowry Deaths'][i]\n",
    "        u = data['Assault on women with intent to outrage her modesty'][i]\n",
    "        v = data['Insult to modesty of Women'][i]\n",
    "        w = data['Cruelty by Husband or his Relatives'][i]\n",
    "        x = data['Importation of Girls'][i]\n",
    "        rows = [p,q,r,s,t,u,v,w,x]\n",
    "\n",
    "        # create the DataFrame from the NumPy array\n",
    "        df13 = df13.append(pd.Series(rows, index=df13.columns), ignore_index=True)"
   ]
  },
  {
   "cell_type": "code",
   "execution_count": 32,
   "id": "b83daf39",
   "metadata": {},
   "outputs": [],
   "source": [
    "for i in range(len(data['STATE/UT'])):\n",
    "    if data['Year'][i] == 2014:\n",
    "        p = data['STATE/UT'][i]\n",
    "        q = data['DISTRICT'][i]\n",
    "        r = data['Rape'][i]\n",
    "        s = data['Kidnapping and Abduction'][i]\n",
    "        t = data['Dowry Deaths'][i]\n",
    "        u = data['Assault on women with intent to outrage her modesty'][i]\n",
    "        v = data['Insult to modesty of Women'][i]\n",
    "        w = data['Cruelty by Husband or his Relatives'][i]\n",
    "        x = data['Importation of Girls'][i]\n",
    "        rows = [p,q,r,s,t,u,v,w,x]\n",
    "\n",
    "        # create the DataFrame from the NumPy array\n",
    "        df14 = df14.append(pd.Series(rows, index=df14.columns), ignore_index=True)"
   ]
  },
  {
   "cell_type": "code",
   "execution_count": 33,
   "id": "6df51e2d",
   "metadata": {
    "scrolled": true
   },
   "outputs": [
    {
     "data": {
      "text/html": [
       "<div>\n",
       "<style scoped>\n",
       "    .dataframe tbody tr th:only-of-type {\n",
       "        vertical-align: middle;\n",
       "    }\n",
       "\n",
       "    .dataframe tbody tr th {\n",
       "        vertical-align: top;\n",
       "    }\n",
       "\n",
       "    .dataframe thead th {\n",
       "        text-align: right;\n",
       "    }\n",
       "</style>\n",
       "<table border=\"1\" class=\"dataframe\">\n",
       "  <thead>\n",
       "    <tr style=\"text-align: right;\">\n",
       "      <th></th>\n",
       "      <th>STATE/UT</th>\n",
       "      <th>DISTRICT</th>\n",
       "      <th>Rape</th>\n",
       "      <th>Kidnapping and Abduction</th>\n",
       "      <th>Dowry Deaths</th>\n",
       "      <th>Assault on women with intent to outrage her modesty</th>\n",
       "      <th>Insult to modesty of Women</th>\n",
       "      <th>Cruelty by Husband or his Relatives</th>\n",
       "      <th>Importation of Girls</th>\n",
       "    </tr>\n",
       "  </thead>\n",
       "  <tbody>\n",
       "    <tr>\n",
       "      <th>0</th>\n",
       "      <td>andhrapradesh</td>\n",
       "      <td>Anantapur</td>\n",
       "      <td>35</td>\n",
       "      <td>106</td>\n",
       "      <td>25</td>\n",
       "      <td>436</td>\n",
       "      <td>26</td>\n",
       "      <td>165</td>\n",
       "      <td>0</td>\n",
       "    </tr>\n",
       "    <tr>\n",
       "      <th>1</th>\n",
       "      <td>andhrapradesh</td>\n",
       "      <td>Chittoor</td>\n",
       "      <td>32</td>\n",
       "      <td>34</td>\n",
       "      <td>17</td>\n",
       "      <td>135</td>\n",
       "      <td>94</td>\n",
       "      <td>278</td>\n",
       "      <td>0</td>\n",
       "    </tr>\n",
       "    <tr>\n",
       "      <th>2</th>\n",
       "      <td>andhrapradesh</td>\n",
       "      <td>Cuddapah</td>\n",
       "      <td>28</td>\n",
       "      <td>16</td>\n",
       "      <td>16</td>\n",
       "      <td>215</td>\n",
       "      <td>12</td>\n",
       "      <td>91</td>\n",
       "      <td>0</td>\n",
       "    </tr>\n",
       "    <tr>\n",
       "      <th>3</th>\n",
       "      <td>andhrapradesh</td>\n",
       "      <td>East Godavari</td>\n",
       "      <td>85</td>\n",
       "      <td>25</td>\n",
       "      <td>7</td>\n",
       "      <td>519</td>\n",
       "      <td>62</td>\n",
       "      <td>464</td>\n",
       "      <td>0</td>\n",
       "    </tr>\n",
       "    <tr>\n",
       "      <th>4</th>\n",
       "      <td>andhrapradesh</td>\n",
       "      <td>Guntakal Railway</td>\n",
       "      <td>0</td>\n",
       "      <td>0</td>\n",
       "      <td>0</td>\n",
       "      <td>0</td>\n",
       "      <td>0</td>\n",
       "      <td>0</td>\n",
       "      <td>0</td>\n",
       "    </tr>\n",
       "  </tbody>\n",
       "</table>\n",
       "</div>"
      ],
      "text/plain": [
       "        STATE/UT          DISTRICT Rape Kidnapping and Abduction Dowry Deaths  \\\n",
       "0  andhrapradesh         Anantapur   35                      106           25   \n",
       "1  andhrapradesh          Chittoor   32                       34           17   \n",
       "2  andhrapradesh          Cuddapah   28                       16           16   \n",
       "3  andhrapradesh     East Godavari   85                       25            7   \n",
       "4  andhrapradesh  Guntakal Railway    0                        0            0   \n",
       "\n",
       "  Assault on women with intent to outrage her modesty  \\\n",
       "0                                                436    \n",
       "1                                                135    \n",
       "2                                                215    \n",
       "3                                                519    \n",
       "4                                                  0    \n",
       "\n",
       "  Insult to modesty of Women Cruelty by Husband or his Relatives  \\\n",
       "0                         26                                 165   \n",
       "1                         94                                 278   \n",
       "2                         12                                  91   \n",
       "3                         62                                 464   \n",
       "4                          0                                   0   \n",
       "\n",
       "  Importation of Girls  \n",
       "0                    0  \n",
       "1                    0  \n",
       "2                    0  \n",
       "3                    0  \n",
       "4                    0  "
      ]
     },
     "execution_count": 33,
     "metadata": {},
     "output_type": "execute_result"
    }
   ],
   "source": [
    "df14.head()"
   ]
  },
  {
   "cell_type": "markdown",
   "id": "b2ea6378",
   "metadata": {},
   "source": [
    "# -------------------------- Analysis on Andhra Pradesh State data----------------------------"
   ]
  },
  {
   "cell_type": "markdown",
   "id": "9b10d27a",
   "metadata": {},
   "source": [
    "# 2001 AP Stats"
   ]
  },
  {
   "cell_type": "code",
   "execution_count": 34,
   "id": "2d26b3c5",
   "metadata": {},
   "outputs": [],
   "source": [
    "import matplotlib.pyplot as plt"
   ]
  },
  {
   "cell_type": "code",
   "execution_count": 35,
   "id": "03e6f00f",
   "metadata": {},
   "outputs": [],
   "source": [
    "for i in range(len(df1['DISTRICT'])):\n",
    "    df1['DISTRICT'][i] = small(df1['DISTRICT'][i])"
   ]
  },
  {
   "cell_type": "code",
   "execution_count": 36,
   "id": "55db0158",
   "metadata": {},
   "outputs": [],
   "source": [
    "x = []\n",
    "y = []\n",
    "for i in range(len(df1['STATE/UT'])):\n",
    "    if (data['STATE/UT'][i] == 'andhrapradesh') and (\"total\" not in df1['DISTRICT'][i]):\n",
    "        x.append(df1['DISTRICT'][i])\n",
    "        y.append(df1['Rape'][i])"
   ]
  },
  {
   "cell_type": "code",
   "execution_count": 37,
   "id": "55074c5c",
   "metadata": {},
   "outputs": [],
   "source": [
    "z = []\n",
    "for i in range(len(df1['STATE/UT'])):\n",
    "    if (df1['STATE/UT'][i] == 'andhrapradesh') and (\"total\" not in df1['DISTRICT'][i]):\n",
    "        z.append(df1['Assault on women with intent to outrage her modesty'][i])"
   ]
  },
  {
   "cell_type": "code",
   "execution_count": 38,
   "id": "20f8b4a1",
   "metadata": {},
   "outputs": [],
   "source": [
    "h = []\n",
    "for i in range(len(df1['STATE/UT'])):\n",
    "    if (df1['STATE/UT'][i] == 'andhrapradesh') and (\"total\" not in df1['DISTRICT'][i]):\n",
    "        h.append(df1['Cruelty by Husband or his Relatives'][i])"
   ]
  },
  {
   "cell_type": "code",
   "execution_count": 39,
   "id": "2a5dd576",
   "metadata": {},
   "outputs": [],
   "source": [
    "final_columns = [\"Year\",\"Total_Rape_Cases\", 'Per_Day_Rape_Cases','Highest_Rape_Case_District','Kills_with_doubt_on_women',\n",
    "                 \"Highest_kills_district\",'Cruelty_by_husband',\"Highest_cruelty_by_husband_district\"]\n",
    "df = pd.DataFrame(columns = final_columns)"
   ]
  },
  {
   "cell_type": "code",
   "execution_count": 40,
   "id": "3ffe2361",
   "metadata": {},
   "outputs": [],
   "source": [
    "row = [2001,sum(y),sum(y)/365,\"RangaReddy\",sum(z),'Karimnagar',sum(h),\"Hyderabad city\"]"
   ]
  },
  {
   "cell_type": "code",
   "execution_count": 41,
   "id": "7f1a9be1",
   "metadata": {},
   "outputs": [],
   "source": [
    "df = df.append(pd.Series(row, index=df.columns), ignore_index=True)"
   ]
  },
  {
   "cell_type": "code",
   "execution_count": 42,
   "id": "b7ad5baa",
   "metadata": {},
   "outputs": [
    {
     "data": {
      "text/html": [
       "<div>\n",
       "<style scoped>\n",
       "    .dataframe tbody tr th:only-of-type {\n",
       "        vertical-align: middle;\n",
       "    }\n",
       "\n",
       "    .dataframe tbody tr th {\n",
       "        vertical-align: top;\n",
       "    }\n",
       "\n",
       "    .dataframe thead th {\n",
       "        text-align: right;\n",
       "    }\n",
       "</style>\n",
       "<table border=\"1\" class=\"dataframe\">\n",
       "  <thead>\n",
       "    <tr style=\"text-align: right;\">\n",
       "      <th></th>\n",
       "      <th>Year</th>\n",
       "      <th>Total_Rape_Cases</th>\n",
       "      <th>Per_Day_Rape_Cases</th>\n",
       "      <th>Highest_Rape_Case_District</th>\n",
       "      <th>Kills_with_doubt_on_women</th>\n",
       "      <th>Highest_kills_district</th>\n",
       "      <th>Cruelty_by_husband</th>\n",
       "      <th>Highest_cruelty_by_husband_district</th>\n",
       "    </tr>\n",
       "  </thead>\n",
       "  <tbody>\n",
       "    <tr>\n",
       "      <th>0</th>\n",
       "      <td>2001</td>\n",
       "      <td>871</td>\n",
       "      <td>2.386301</td>\n",
       "      <td>RangaReddy</td>\n",
       "      <td>3544</td>\n",
       "      <td>Karimnagar</td>\n",
       "      <td>5791</td>\n",
       "      <td>Hyderabad city</td>\n",
       "    </tr>\n",
       "  </tbody>\n",
       "</table>\n",
       "</div>"
      ],
      "text/plain": [
       "   Year Total_Rape_Cases  Per_Day_Rape_Cases Highest_Rape_Case_District  \\\n",
       "0  2001              871            2.386301                 RangaReddy   \n",
       "\n",
       "  Kills_with_doubt_on_women Highest_kills_district Cruelty_by_husband  \\\n",
       "0                      3544             Karimnagar               5791   \n",
       "\n",
       "  Highest_cruelty_by_husband_district  \n",
       "0                      Hyderabad city  "
      ]
     },
     "execution_count": 42,
     "metadata": {},
     "output_type": "execute_result"
    }
   ],
   "source": [
    "df.head()"
   ]
  },
  {
   "cell_type": "markdown",
   "id": "8f3f2ecd",
   "metadata": {},
   "source": [
    "# 2002 AP Stats"
   ]
  },
  {
   "cell_type": "code",
   "execution_count": 43,
   "id": "de074e48",
   "metadata": {},
   "outputs": [],
   "source": [
    "for i in range(len(df2['DISTRICT'])):\n",
    "    df2['DISTRICT'][i] = small(df2['DISTRICT'][i])"
   ]
  },
  {
   "cell_type": "code",
   "execution_count": 44,
   "id": "0a2fa4f6",
   "metadata": {},
   "outputs": [],
   "source": [
    "x = []\n",
    "y = []\n",
    "z = []\n",
    "h = []\n",
    "for i in range(len(df2['STATE/UT'])):\n",
    "    if (df2['STATE/UT'][i] == 'andhrapradesh') and (\"total\" not in df2['DISTRICT'][i]):\n",
    "        x.append(df2['DISTRICT'][i])\n",
    "        y.append(df2['Rape'][i])\n",
    "        z.append(df2['Assault on women with intent to outrage her modesty'][i])\n",
    "        h.append(df2['Cruelty by Husband or his Relatives'][i])"
   ]
  },
  {
   "cell_type": "code",
   "execution_count": 45,
   "id": "abb779f9",
   "metadata": {},
   "outputs": [],
   "source": [
    "row = [2002,sum(y),sum(y)/365,\"Karimnagar\",sum(z),'Karimnagar',sum(h),\"Vijayawada\"]\n",
    "df = df.append(pd.Series(row, index=df.columns), ignore_index=True)"
   ]
  },
  {
   "cell_type": "code",
   "execution_count": 46,
   "id": "e5ee156c",
   "metadata": {
    "scrolled": true
   },
   "outputs": [
    {
     "data": {
      "text/html": [
       "<div>\n",
       "<style scoped>\n",
       "    .dataframe tbody tr th:only-of-type {\n",
       "        vertical-align: middle;\n",
       "    }\n",
       "\n",
       "    .dataframe tbody tr th {\n",
       "        vertical-align: top;\n",
       "    }\n",
       "\n",
       "    .dataframe thead th {\n",
       "        text-align: right;\n",
       "    }\n",
       "</style>\n",
       "<table border=\"1\" class=\"dataframe\">\n",
       "  <thead>\n",
       "    <tr style=\"text-align: right;\">\n",
       "      <th></th>\n",
       "      <th>Year</th>\n",
       "      <th>Total_Rape_Cases</th>\n",
       "      <th>Per_Day_Rape_Cases</th>\n",
       "      <th>Highest_Rape_Case_District</th>\n",
       "      <th>Kills_with_doubt_on_women</th>\n",
       "      <th>Highest_kills_district</th>\n",
       "      <th>Cruelty_by_husband</th>\n",
       "      <th>Highest_cruelty_by_husband_district</th>\n",
       "    </tr>\n",
       "  </thead>\n",
       "  <tbody>\n",
       "    <tr>\n",
       "      <th>0</th>\n",
       "      <td>2001</td>\n",
       "      <td>871</td>\n",
       "      <td>2.386301</td>\n",
       "      <td>RangaReddy</td>\n",
       "      <td>3544</td>\n",
       "      <td>Karimnagar</td>\n",
       "      <td>5791</td>\n",
       "      <td>Hyderabad city</td>\n",
       "    </tr>\n",
       "    <tr>\n",
       "      <th>1</th>\n",
       "      <td>2002</td>\n",
       "      <td>1002</td>\n",
       "      <td>2.745205</td>\n",
       "      <td>Karimnagar</td>\n",
       "      <td>3799</td>\n",
       "      <td>Karimnagar</td>\n",
       "      <td>7018</td>\n",
       "      <td>Vijayawada</td>\n",
       "    </tr>\n",
       "  </tbody>\n",
       "</table>\n",
       "</div>"
      ],
      "text/plain": [
       "   Year Total_Rape_Cases  Per_Day_Rape_Cases Highest_Rape_Case_District  \\\n",
       "0  2001              871            2.386301                 RangaReddy   \n",
       "1  2002             1002            2.745205                 Karimnagar   \n",
       "\n",
       "  Kills_with_doubt_on_women Highest_kills_district Cruelty_by_husband  \\\n",
       "0                      3544             Karimnagar               5791   \n",
       "1                      3799             Karimnagar               7018   \n",
       "\n",
       "  Highest_cruelty_by_husband_district  \n",
       "0                      Hyderabad city  \n",
       "1                          Vijayawada  "
      ]
     },
     "execution_count": 46,
     "metadata": {},
     "output_type": "execute_result"
    }
   ],
   "source": [
    "df.head()"
   ]
  },
  {
   "cell_type": "markdown",
   "id": "35a7c98e",
   "metadata": {},
   "source": [
    "# 2003 Stats AP"
   ]
  },
  {
   "cell_type": "code",
   "execution_count": 47,
   "id": "b37aa3c0",
   "metadata": {},
   "outputs": [],
   "source": [
    "for i in range(len(df3['DISTRICT'])):\n",
    "    df3['DISTRICT'][i] = small(df3['DISTRICT'][i])\n",
    "x = []\n",
    "y = []\n",
    "z = []\n",
    "h = []\n",
    "for i in range(len(df3['STATE/UT'])):\n",
    "    if (df3['STATE/UT'][i] == 'andhrapradesh') and (\"total\" not in df3['DISTRICT'][i]):\n",
    "        x.append(df3['DISTRICT'][i])\n",
    "        y.append(df3['Rape'][i])\n",
    "        z.append(df3['Assault on women with intent to outrage her modesty'][i])\n",
    "        h.append(df3['Cruelty by Husband or his Relatives'][i])"
   ]
  },
  {
   "cell_type": "code",
   "execution_count": 48,
   "id": "1ba5702b",
   "metadata": {},
   "outputs": [],
   "source": [
    "row = [2003,sum(y),sum(y)/365,\"West godavari\",sum(z),'West godavari',sum(h),\"Vijayawada\"]\n",
    "df = df.append(pd.Series(row, index=df.columns), ignore_index=True)"
   ]
  },
  {
   "cell_type": "markdown",
   "id": "2c842b64",
   "metadata": {},
   "source": [
    "# 2004 AP Stats"
   ]
  },
  {
   "cell_type": "code",
   "execution_count": 49,
   "id": "1d9974aa",
   "metadata": {},
   "outputs": [],
   "source": [
    "for i in range(len(df4['DISTRICT'])):\n",
    "    df4['DISTRICT'][i] = small(df4['DISTRICT'][i])\n",
    "x = []\n",
    "y = []\n",
    "z = []\n",
    "h = []\n",
    "for i in range(len(df4['STATE/UT'])):\n",
    "    if (df4['STATE/UT'][i] == 'andhrapradesh') and (\"total\" not in df4['DISTRICT'][i]):\n",
    "        x.append(df4['DISTRICT'][i])\n",
    "        y.append(df4['Rape'][i])\n",
    "        z.append(df4['Assault on women with intent to outrage her modesty'][i])\n",
    "        h.append(df4['Cruelty by Husband or his Relatives'][i])"
   ]
  },
  {
   "cell_type": "code",
   "execution_count": 50,
   "id": "594aa349",
   "metadata": {},
   "outputs": [],
   "source": [
    "row = [2004,sum(y),sum(y)/365,\"Nellore\",sum(z),'Karimnagar',sum(h),\"Hyderabad city\"]\n",
    "df = df.append(pd.Series(row, index=df.columns), ignore_index=True)"
   ]
  },
  {
   "cell_type": "markdown",
   "id": "fb0e8712",
   "metadata": {},
   "source": [
    "# 2005 AP Stats"
   ]
  },
  {
   "cell_type": "code",
   "execution_count": 51,
   "id": "e1ec7362",
   "metadata": {},
   "outputs": [],
   "source": [
    "for i in range(len(df5['DISTRICT'])):\n",
    "    df5['DISTRICT'][i] = small(df5['DISTRICT'][i])\n",
    "x = []\n",
    "y = []\n",
    "z = []\n",
    "h = []\n",
    "for i in range(len(df5['STATE/UT'])):\n",
    "    if (df5['STATE/UT'][i] == 'andhrapradesh') and (\"total\" not in df5['DISTRICT'][i]):\n",
    "        x.append(df5['DISTRICT'][i])\n",
    "        y.append(df5['Rape'][i])\n",
    "        z.append(df5['Assault on women with intent to outrage her modesty'][i])\n",
    "        h.append(df5['Cruelty by Husband or his Relatives'][i])"
   ]
  },
  {
   "cell_type": "code",
   "execution_count": 52,
   "id": "646869fa",
   "metadata": {},
   "outputs": [],
   "source": [
    "row = [2005,sum(y),sum(y)/365,\"Karimnagar\",sum(z),'Karimnagar',sum(h),\"Hyderabad city\"]\n",
    "df = df.append(pd.Series(row, index=df.columns), ignore_index=True)"
   ]
  },
  {
   "cell_type": "markdown",
   "id": "78a52f56",
   "metadata": {},
   "source": [
    "# 2006 AP Stats"
   ]
  },
  {
   "cell_type": "code",
   "execution_count": 53,
   "id": "c2978aff",
   "metadata": {},
   "outputs": [],
   "source": [
    "for i in range(len(df6['DISTRICT'])):\n",
    "    df6['DISTRICT'][i] = small(df6['DISTRICT'][i])\n",
    "x = []\n",
    "y = []\n",
    "z = []\n",
    "h = []\n",
    "for i in range(len(df6['STATE/UT'])):\n",
    "    if (df6['STATE/UT'][i] == 'andhrapradesh') and (\"total\" not in df6['DISTRICT'][i]):\n",
    "        x.append(df6['DISTRICT'][i])\n",
    "        y.append(df6['Rape'][i])\n",
    "        z.append(df6['Assault on women with intent to outrage her modesty'][i])\n",
    "        h.append(df6['Cruelty by Husband or his Relatives'][i])"
   ]
  },
  {
   "cell_type": "code",
   "execution_count": 54,
   "id": "89aa5029",
   "metadata": {},
   "outputs": [],
   "source": [
    "row = [2005,sum(y),sum(y)/365,\"Hyderabad city\",sum(z),'Karimnagar',sum(h),\"Hyderabad city\"]\n",
    "df = df.append(pd.Series(row, index=df.columns), ignore_index=True)"
   ]
  },
  {
   "cell_type": "markdown",
   "id": "eba4e781",
   "metadata": {},
   "source": [
    "# 2007 AP Stats"
   ]
  },
  {
   "cell_type": "code",
   "execution_count": 55,
   "id": "46f8d29f",
   "metadata": {},
   "outputs": [],
   "source": [
    "for i in range(len(df7['DISTRICT'])):\n",
    "    df7['DISTRICT'][i] = small(df7['DISTRICT'][i])\n",
    "x = []\n",
    "y = []\n",
    "z = []\n",
    "h = []\n",
    "for i in range(len(df7['STATE/UT'])):\n",
    "    if (df7['STATE/UT'][i] == 'andhrapradesh') and (\"total\" not in df7['DISTRICT'][i]):\n",
    "        x.append(df7['DISTRICT'][i])\n",
    "        y.append(df7['Rape'][i])\n",
    "        z.append(df7['Assault on women with intent to outrage her modesty'][i])\n",
    "        h.append(df7['Cruelty by Husband or his Relatives'][i])"
   ]
  },
  {
   "cell_type": "code",
   "execution_count": 56,
   "id": "160b2232",
   "metadata": {},
   "outputs": [],
   "source": [
    "row = [2007,sum(y),sum(y)/365,\"mahaboobanagar\",sum(z),'Kurnool',sum(h),\"Hyderabad city\"]\n",
    "df = df.append(pd.Series(row, index=df.columns), ignore_index=True)"
   ]
  },
  {
   "cell_type": "code",
   "execution_count": 57,
   "id": "f771b8c4",
   "metadata": {},
   "outputs": [
    {
     "name": "stderr",
     "output_type": "stream",
     "text": [
      "c:\\users\\gowthsm\\appdata\\local\\programs\\python\\python37\\lib\\site-packages\\ipykernel_launcher.py:1: SettingWithCopyWarning: \n",
      "A value is trying to be set on a copy of a slice from a DataFrame\n",
      "\n",
      "See the caveats in the documentation: https://pandas.pydata.org/pandas-docs/stable/user_guide/indexing.html#returning-a-view-versus-a-copy\n",
      "  \"\"\"Entry point for launching an IPython kernel.\n"
     ]
    }
   ],
   "source": [
    "df['Year'][5] = 2006"
   ]
  },
  {
   "cell_type": "code",
   "execution_count": 58,
   "id": "c5f2325a",
   "metadata": {},
   "outputs": [
    {
     "data": {
      "text/html": [
       "<div>\n",
       "<style scoped>\n",
       "    .dataframe tbody tr th:only-of-type {\n",
       "        vertical-align: middle;\n",
       "    }\n",
       "\n",
       "    .dataframe tbody tr th {\n",
       "        vertical-align: top;\n",
       "    }\n",
       "\n",
       "    .dataframe thead th {\n",
       "        text-align: right;\n",
       "    }\n",
       "</style>\n",
       "<table border=\"1\" class=\"dataframe\">\n",
       "  <thead>\n",
       "    <tr style=\"text-align: right;\">\n",
       "      <th></th>\n",
       "      <th>Year</th>\n",
       "      <th>Total_Rape_Cases</th>\n",
       "      <th>Per_Day_Rape_Cases</th>\n",
       "      <th>Highest_Rape_Case_District</th>\n",
       "      <th>Kills_with_doubt_on_women</th>\n",
       "      <th>Highest_kills_district</th>\n",
       "      <th>Cruelty_by_husband</th>\n",
       "      <th>Highest_cruelty_by_husband_district</th>\n",
       "    </tr>\n",
       "  </thead>\n",
       "  <tbody>\n",
       "    <tr>\n",
       "      <th>0</th>\n",
       "      <td>2001</td>\n",
       "      <td>871</td>\n",
       "      <td>2.386301</td>\n",
       "      <td>RangaReddy</td>\n",
       "      <td>3544</td>\n",
       "      <td>Karimnagar</td>\n",
       "      <td>5791</td>\n",
       "      <td>Hyderabad city</td>\n",
       "    </tr>\n",
       "    <tr>\n",
       "      <th>1</th>\n",
       "      <td>2002</td>\n",
       "      <td>1002</td>\n",
       "      <td>2.745205</td>\n",
       "      <td>Karimnagar</td>\n",
       "      <td>3799</td>\n",
       "      <td>Karimnagar</td>\n",
       "      <td>7018</td>\n",
       "      <td>Vijayawada</td>\n",
       "    </tr>\n",
       "    <tr>\n",
       "      <th>2</th>\n",
       "      <td>2003</td>\n",
       "      <td>946</td>\n",
       "      <td>2.591781</td>\n",
       "      <td>West godavari</td>\n",
       "      <td>4128</td>\n",
       "      <td>West godavari</td>\n",
       "      <td>8167</td>\n",
       "      <td>Vijayawada</td>\n",
       "    </tr>\n",
       "    <tr>\n",
       "      <th>3</th>\n",
       "      <td>2004</td>\n",
       "      <td>1016</td>\n",
       "      <td>2.783562</td>\n",
       "      <td>Nellore</td>\n",
       "      <td>3817</td>\n",
       "      <td>Karimnagar</td>\n",
       "      <td>8388</td>\n",
       "      <td>Hyderabad city</td>\n",
       "    </tr>\n",
       "    <tr>\n",
       "      <th>4</th>\n",
       "      <td>2005</td>\n",
       "      <td>935</td>\n",
       "      <td>2.561644</td>\n",
       "      <td>Karimnagar</td>\n",
       "      <td>3595</td>\n",
       "      <td>Karimnagar</td>\n",
       "      <td>8696</td>\n",
       "      <td>Hyderabad city</td>\n",
       "    </tr>\n",
       "    <tr>\n",
       "      <th>5</th>\n",
       "      <td>2006</td>\n",
       "      <td>1049</td>\n",
       "      <td>2.873973</td>\n",
       "      <td>Hyderabad city</td>\n",
       "      <td>4534</td>\n",
       "      <td>Karimnagar</td>\n",
       "      <td>9164</td>\n",
       "      <td>Hyderabad city</td>\n",
       "    </tr>\n",
       "    <tr>\n",
       "      <th>6</th>\n",
       "      <td>2007</td>\n",
       "      <td>1070</td>\n",
       "      <td>2.931507</td>\n",
       "      <td>mahaboobanagar</td>\n",
       "      <td>4406</td>\n",
       "      <td>Kurnool</td>\n",
       "      <td>11335</td>\n",
       "      <td>Hyderabad city</td>\n",
       "    </tr>\n",
       "  </tbody>\n",
       "</table>\n",
       "</div>"
      ],
      "text/plain": [
       "   Year Total_Rape_Cases  Per_Day_Rape_Cases Highest_Rape_Case_District  \\\n",
       "0  2001              871            2.386301                 RangaReddy   \n",
       "1  2002             1002            2.745205                 Karimnagar   \n",
       "2  2003              946            2.591781              West godavari   \n",
       "3  2004             1016            2.783562                    Nellore   \n",
       "4  2005              935            2.561644                 Karimnagar   \n",
       "5  2006             1049            2.873973             Hyderabad city   \n",
       "6  2007             1070            2.931507             mahaboobanagar   \n",
       "\n",
       "  Kills_with_doubt_on_women Highest_kills_district Cruelty_by_husband  \\\n",
       "0                      3544             Karimnagar               5791   \n",
       "1                      3799             Karimnagar               7018   \n",
       "2                      4128          West godavari               8167   \n",
       "3                      3817             Karimnagar               8388   \n",
       "4                      3595             Karimnagar               8696   \n",
       "5                      4534             Karimnagar               9164   \n",
       "6                      4406                Kurnool              11335   \n",
       "\n",
       "  Highest_cruelty_by_husband_district  \n",
       "0                      Hyderabad city  \n",
       "1                          Vijayawada  \n",
       "2                          Vijayawada  \n",
       "3                      Hyderabad city  \n",
       "4                      Hyderabad city  \n",
       "5                      Hyderabad city  \n",
       "6                      Hyderabad city  "
      ]
     },
     "execution_count": 58,
     "metadata": {},
     "output_type": "execute_result"
    }
   ],
   "source": [
    "df"
   ]
  },
  {
   "cell_type": "markdown",
   "id": "d5b9efe9",
   "metadata": {},
   "source": [
    "# 2008 AP Stats"
   ]
  },
  {
   "cell_type": "code",
   "execution_count": 59,
   "id": "5a53b7e3",
   "metadata": {},
   "outputs": [],
   "source": [
    "for i in range(len(df8['DISTRICT'])):\n",
    "    df8['DISTRICT'][i] = small(df8['DISTRICT'][i])\n",
    "x = []\n",
    "y = []\n",
    "z = []\n",
    "h = []\n",
    "for i in range(len(df8['STATE/UT'])):\n",
    "    if (df8['STATE/UT'][i] == 'andhrapradesh') and (\"total\" not in df8['DISTRICT'][i]):\n",
    "        x.append(df8['DISTRICT'][i])\n",
    "        y.append(df8['Rape'][i])\n",
    "        z.append(df8['Assault on women with intent to outrage her modesty'][i])\n",
    "        h.append(df8['Cruelty by Husband or his Relatives'][i])"
   ]
  },
  {
   "cell_type": "code",
   "execution_count": 60,
   "id": "0f8523ae",
   "metadata": {},
   "outputs": [],
   "source": [
    "row = [2008,sum(y),sum(y)/365,\"West Godavari\",sum(z),'Kurnool',sum(h),\"Hyderabad city\"]\n",
    "df = df.append(pd.Series(row, index=df.columns), ignore_index=True)"
   ]
  },
  {
   "cell_type": "code",
   "execution_count": 61,
   "id": "428626a1",
   "metadata": {},
   "outputs": [
    {
     "name": "stderr",
     "output_type": "stream",
     "text": [
      "c:\\users\\gowthsm\\appdata\\local\\programs\\python\\python37\\lib\\site-packages\\ipykernel_launcher.py:1: SettingWithCopyWarning: \n",
      "A value is trying to be set on a copy of a slice from a DataFrame\n",
      "\n",
      "See the caveats in the documentation: https://pandas.pydata.org/pandas-docs/stable/user_guide/indexing.html#returning-a-view-versus-a-copy\n",
      "  \"\"\"Entry point for launching an IPython kernel.\n"
     ]
    }
   ],
   "source": [
    "df['Highest_Rape_Case_District'][7] = \"West Godavari\""
   ]
  },
  {
   "cell_type": "markdown",
   "id": "20a21197",
   "metadata": {},
   "source": [
    "# 2009 AP Stats"
   ]
  },
  {
   "cell_type": "code",
   "execution_count": 62,
   "id": "f31d3cce",
   "metadata": {},
   "outputs": [],
   "source": [
    "for i in range(len(df9['DISTRICT'])):\n",
    "    df9['DISTRICT'][i] = small(df9['DISTRICT'][i])\n",
    "x = []\n",
    "y = []\n",
    "z = []\n",
    "h = []\n",
    "for i in range(len(df9['STATE/UT'])):\n",
    "    if (df9['STATE/UT'][i] == 'andhrapradesh') and (\"total\" not in df9['DISTRICT'][i]):\n",
    "        x.append(df9['DISTRICT'][i])\n",
    "        y.append(df9['Rape'][i])\n",
    "        z.append(df9['Assault on women with intent to outrage her modesty'][i])\n",
    "        h.append(df9['Cruelty by Husband or his Relatives'][i])"
   ]
  },
  {
   "cell_type": "code",
   "execution_count": 63,
   "id": "86789636",
   "metadata": {},
   "outputs": [],
   "source": [
    "row = [2009,sum(y),sum(y)/365,\"West Godavari\",sum(z),'Kurnool',sum(h),\"Hyderabad city\"]\n",
    "df = df.append(pd.Series(row, index=df.columns), ignore_index=True)"
   ]
  },
  {
   "cell_type": "markdown",
   "id": "73a57aca",
   "metadata": {},
   "source": [
    "# 2010 AP Stats"
   ]
  },
  {
   "cell_type": "code",
   "execution_count": 64,
   "id": "a75e4ac9",
   "metadata": {},
   "outputs": [],
   "source": [
    "for i in range(len(df10['DISTRICT'])):\n",
    "    df10['DISTRICT'][i] = small(df10['DISTRICT'][i])\n",
    "x = []\n",
    "y = []\n",
    "z = []\n",
    "h = []\n",
    "for i in range(len(df10['STATE/UT'])):\n",
    "    if (df10['STATE/UT'][i] == 'andhrapradesh') and (\"total\" not in df10['DISTRICT'][i]):\n",
    "        x.append(df10['DISTRICT'][i])\n",
    "        y.append(df10['Rape'][i])\n",
    "        z.append(df10['Assault on women with intent to outrage her modesty'][i])\n",
    "        h.append(df10['Cruelty by Husband or his Relatives'][i])"
   ]
  },
  {
   "cell_type": "code",
   "execution_count": 65,
   "id": "3fb1118f",
   "metadata": {},
   "outputs": [],
   "source": [
    "row = [2009,sum(y),sum(y)/365,\"West Godavari\",sum(z),'West Godavari',sum(h),\"Hyderabad city\"]\n",
    "df = df.append(pd.Series(row, index=df.columns), ignore_index=True)"
   ]
  },
  {
   "cell_type": "code",
   "execution_count": 66,
   "id": "d56ebb9d",
   "metadata": {},
   "outputs": [
    {
     "name": "stderr",
     "output_type": "stream",
     "text": [
      "c:\\users\\gowthsm\\appdata\\local\\programs\\python\\python37\\lib\\site-packages\\ipykernel_launcher.py:1: SettingWithCopyWarning: \n",
      "A value is trying to be set on a copy of a slice from a DataFrame\n",
      "\n",
      "See the caveats in the documentation: https://pandas.pydata.org/pandas-docs/stable/user_guide/indexing.html#returning-a-view-versus-a-copy\n",
      "  \"\"\"Entry point for launching an IPython kernel.\n"
     ]
    }
   ],
   "source": [
    "df['Year'][9] = 2010"
   ]
  },
  {
   "cell_type": "markdown",
   "id": "8c54d3ed",
   "metadata": {},
   "source": [
    "# 2011 AP Stats"
   ]
  },
  {
   "cell_type": "code",
   "execution_count": 67,
   "id": "d682715d",
   "metadata": {},
   "outputs": [],
   "source": [
    "for i in range(len(df11['DISTRICT'])):\n",
    "    df11['DISTRICT'][i] = small(df11['DISTRICT'][i])\n",
    "x = []\n",
    "y = []\n",
    "z = []\n",
    "h = []\n",
    "for i in range(len(df11['STATE/UT'])):\n",
    "    if (df11['STATE/UT'][i] == 'andhrapradesh') and (\"total\" not in df11['DISTRICT'][i]):\n",
    "        x.append(df11['DISTRICT'][i])\n",
    "        y.append(df11['Rape'][i])\n",
    "        z.append(df11['Assault on women with intent to outrage her modesty'][i])\n",
    "        h.append(df11['Cruelty by Husband or his Relatives'][i])"
   ]
  },
  {
   "cell_type": "code",
   "execution_count": 68,
   "id": "691d1175",
   "metadata": {},
   "outputs": [],
   "source": [
    "row = [2011,sum(y),sum(y)/365,\"West Godavari\",sum(z),'West Godavari',sum(h),\"Cyberabad\"]\n",
    "df = df.append(pd.Series(row, index=df.columns), ignore_index=True)"
   ]
  },
  {
   "cell_type": "markdown",
   "id": "49dd7223",
   "metadata": {},
   "source": [
    "# 2012 AP stats"
   ]
  },
  {
   "cell_type": "code",
   "execution_count": 69,
   "id": "7f3dcc16",
   "metadata": {},
   "outputs": [],
   "source": [
    "for i in range(len(df12['DISTRICT'])):\n",
    "    df12['DISTRICT'][i] = small(df12['DISTRICT'][i])\n",
    "x = []\n",
    "y = []\n",
    "z = []\n",
    "h = []\n",
    "for i in range(len(df12['STATE/UT'])):\n",
    "    if (df12['STATE/UT'][i] == 'andhrapradesh') and (\"total\" not in df12['DISTRICT'][i]):\n",
    "        x.append(df12['DISTRICT'][i])\n",
    "        y.append(df12['Rape'][i])\n",
    "        z.append(df12['Assault on women with intent to outrage her modesty'][i])\n",
    "        h.append(df12['Cruelty by Husband or his Relatives'][i])"
   ]
  },
  {
   "cell_type": "code",
   "execution_count": 70,
   "id": "a9a987b6",
   "metadata": {},
   "outputs": [],
   "source": [
    "row = [2012,sum(y),sum(y)/365,\"West Godavari\",sum(z),'Krishna',sum(h),\"hyderabad city\"]\n",
    "df = df.append(pd.Series(row, index=df.columns), ignore_index=True)"
   ]
  },
  {
   "cell_type": "markdown",
   "id": "452c5d4d",
   "metadata": {},
   "source": [
    "# 2013 AP Stats"
   ]
  },
  {
   "cell_type": "code",
   "execution_count": 71,
   "id": "c1460656",
   "metadata": {},
   "outputs": [],
   "source": [
    "for i in range(len(df13['DISTRICT'])):\n",
    "    df13['DISTRICT'][i] = small(df13['DISTRICT'][i])\n",
    "x = []\n",
    "y = []\n",
    "z = []\n",
    "h = []\n",
    "for i in range(len(df13['STATE/UT'])):\n",
    "    if (df13['STATE/UT'][i] == 'andhrapradesh') and (\"total\" not in df13['DISTRICT'][i]):\n",
    "        x.append(df13['DISTRICT'][i])\n",
    "        y.append(df13['Rape'][i])\n",
    "        z.append(df13['Assault on women with intent to outrage her modesty'][i])\n",
    "        h.append(df13['Cruelty by Husband or his Relatives'][i])"
   ]
  },
  {
   "cell_type": "code",
   "execution_count": 72,
   "id": "56376a94",
   "metadata": {},
   "outputs": [],
   "source": [
    "row = [2013,sum(y),sum(y)/365,\"Cyberabad\",sum(z),'Krishna',sum(h),\"Cyberabad\"]\n",
    "df = df.append(pd.Series(row, index=df.columns), ignore_index=True)"
   ]
  },
  {
   "cell_type": "markdown",
   "id": "6d1fa4c0",
   "metadata": {},
   "source": [
    "# 2014 AP Stats"
   ]
  },
  {
   "cell_type": "code",
   "execution_count": 73,
   "id": "3c7cceb1",
   "metadata": {},
   "outputs": [],
   "source": [
    "for i in range(len(df14['DISTRICT'])):\n",
    "    df14['DISTRICT'][i] = small(df14['DISTRICT'][i])\n",
    "x = []\n",
    "y = []\n",
    "z = []\n",
    "h = []\n",
    "for i in range(len(df14['STATE/UT'])):\n",
    "    if (df14['STATE/UT'][i] == 'andhrapradesh') and (\"total\" not in df14['DISTRICT'][i]):\n",
    "        x.append(df14['DISTRICT'][i])\n",
    "        y.append(df14['Rape'][i])\n",
    "        z.append(df14['Assault on women with intent to outrage her modesty'][i])\n",
    "        h.append(df14['Cruelty by Husband or his Relatives'][i])"
   ]
  },
  {
   "cell_type": "code",
   "execution_count": 74,
   "id": "61c45fc3",
   "metadata": {},
   "outputs": [],
   "source": [
    "row = [2014,sum(y),sum(y)/365,\"West Godavari\",sum(z),'East Godavari',sum(h),\"West Godavari\"]\n",
    "df = df.append(pd.Series(row, index=df.columns), ignore_index=True)"
   ]
  },
  {
   "cell_type": "markdown",
   "id": "ec09a4d8",
   "metadata": {},
   "source": [
    "# ----------------------------------AP State Summary table -----------------------------------------"
   ]
  },
  {
   "cell_type": "code",
   "execution_count": 75,
   "id": "1b435f0b",
   "metadata": {},
   "outputs": [
    {
     "data": {
      "text/html": [
       "<div>\n",
       "<style scoped>\n",
       "    .dataframe tbody tr th:only-of-type {\n",
       "        vertical-align: middle;\n",
       "    }\n",
       "\n",
       "    .dataframe tbody tr th {\n",
       "        vertical-align: top;\n",
       "    }\n",
       "\n",
       "    .dataframe thead th {\n",
       "        text-align: right;\n",
       "    }\n",
       "</style>\n",
       "<table border=\"1\" class=\"dataframe\">\n",
       "  <thead>\n",
       "    <tr style=\"text-align: right;\">\n",
       "      <th></th>\n",
       "      <th>Year</th>\n",
       "      <th>Total_Rape_Cases</th>\n",
       "      <th>Per_Day_Rape_Cases</th>\n",
       "      <th>Highest_Rape_Case_District</th>\n",
       "      <th>Kills_with_doubt_on_women</th>\n",
       "      <th>Highest_kills_district</th>\n",
       "      <th>Cruelty_by_husband</th>\n",
       "      <th>Highest_cruelty_by_husband_district</th>\n",
       "    </tr>\n",
       "  </thead>\n",
       "  <tbody>\n",
       "    <tr>\n",
       "      <th>0</th>\n",
       "      <td>2001</td>\n",
       "      <td>871</td>\n",
       "      <td>2.386301</td>\n",
       "      <td>RangaReddy</td>\n",
       "      <td>3544</td>\n",
       "      <td>Karimnagar</td>\n",
       "      <td>5791</td>\n",
       "      <td>Hyderabad city</td>\n",
       "    </tr>\n",
       "    <tr>\n",
       "      <th>1</th>\n",
       "      <td>2002</td>\n",
       "      <td>1002</td>\n",
       "      <td>2.745205</td>\n",
       "      <td>Karimnagar</td>\n",
       "      <td>3799</td>\n",
       "      <td>Karimnagar</td>\n",
       "      <td>7018</td>\n",
       "      <td>Vijayawada</td>\n",
       "    </tr>\n",
       "    <tr>\n",
       "      <th>2</th>\n",
       "      <td>2003</td>\n",
       "      <td>946</td>\n",
       "      <td>2.591781</td>\n",
       "      <td>West godavari</td>\n",
       "      <td>4128</td>\n",
       "      <td>West godavari</td>\n",
       "      <td>8167</td>\n",
       "      <td>Vijayawada</td>\n",
       "    </tr>\n",
       "    <tr>\n",
       "      <th>3</th>\n",
       "      <td>2004</td>\n",
       "      <td>1016</td>\n",
       "      <td>2.783562</td>\n",
       "      <td>Nellore</td>\n",
       "      <td>3817</td>\n",
       "      <td>Karimnagar</td>\n",
       "      <td>8388</td>\n",
       "      <td>Hyderabad city</td>\n",
       "    </tr>\n",
       "    <tr>\n",
       "      <th>4</th>\n",
       "      <td>2005</td>\n",
       "      <td>935</td>\n",
       "      <td>2.561644</td>\n",
       "      <td>Karimnagar</td>\n",
       "      <td>3595</td>\n",
       "      <td>Karimnagar</td>\n",
       "      <td>8696</td>\n",
       "      <td>Hyderabad city</td>\n",
       "    </tr>\n",
       "    <tr>\n",
       "      <th>5</th>\n",
       "      <td>2006</td>\n",
       "      <td>1049</td>\n",
       "      <td>2.873973</td>\n",
       "      <td>Hyderabad city</td>\n",
       "      <td>4534</td>\n",
       "      <td>Karimnagar</td>\n",
       "      <td>9164</td>\n",
       "      <td>Hyderabad city</td>\n",
       "    </tr>\n",
       "    <tr>\n",
       "      <th>6</th>\n",
       "      <td>2007</td>\n",
       "      <td>1070</td>\n",
       "      <td>2.931507</td>\n",
       "      <td>mahaboobanagar</td>\n",
       "      <td>4406</td>\n",
       "      <td>Kurnool</td>\n",
       "      <td>11335</td>\n",
       "      <td>Hyderabad city</td>\n",
       "    </tr>\n",
       "    <tr>\n",
       "      <th>7</th>\n",
       "      <td>2008</td>\n",
       "      <td>1257</td>\n",
       "      <td>3.443836</td>\n",
       "      <td>West Godavari</td>\n",
       "      <td>4730</td>\n",
       "      <td>Kurnool</td>\n",
       "      <td>10306</td>\n",
       "      <td>Hyderabad city</td>\n",
       "    </tr>\n",
       "    <tr>\n",
       "      <th>8</th>\n",
       "      <td>2009</td>\n",
       "      <td>1188</td>\n",
       "      <td>3.254795</td>\n",
       "      <td>West Godavari</td>\n",
       "      <td>5147</td>\n",
       "      <td>Kurnool</td>\n",
       "      <td>11297</td>\n",
       "      <td>Hyderabad city</td>\n",
       "    </tr>\n",
       "    <tr>\n",
       "      <th>9</th>\n",
       "      <td>2010</td>\n",
       "      <td>1362</td>\n",
       "      <td>3.731507</td>\n",
       "      <td>West Godavari</td>\n",
       "      <td>4634</td>\n",
       "      <td>West Godavari</td>\n",
       "      <td>12080</td>\n",
       "      <td>Hyderabad city</td>\n",
       "    </tr>\n",
       "    <tr>\n",
       "      <th>10</th>\n",
       "      <td>2011</td>\n",
       "      <td>1442</td>\n",
       "      <td>3.950685</td>\n",
       "      <td>West Godavari</td>\n",
       "      <td>4849</td>\n",
       "      <td>West Godavari</td>\n",
       "      <td>13376</td>\n",
       "      <td>Cyberabad</td>\n",
       "    </tr>\n",
       "    <tr>\n",
       "      <th>11</th>\n",
       "      <td>2012</td>\n",
       "      <td>1341</td>\n",
       "      <td>3.673973</td>\n",
       "      <td>West Godavari</td>\n",
       "      <td>4816</td>\n",
       "      <td>Krishna</td>\n",
       "      <td>13389</td>\n",
       "      <td>hyderabad city</td>\n",
       "    </tr>\n",
       "    <tr>\n",
       "      <th>12</th>\n",
       "      <td>2013</td>\n",
       "      <td>1635</td>\n",
       "      <td>4.479452</td>\n",
       "      <td>Cyberabad</td>\n",
       "      <td>6930</td>\n",
       "      <td>Krishna</td>\n",
       "      <td>15084</td>\n",
       "      <td>Cyberabad</td>\n",
       "    </tr>\n",
       "    <tr>\n",
       "      <th>13</th>\n",
       "      <td>2014</td>\n",
       "      <td>961</td>\n",
       "      <td>2.632877</td>\n",
       "      <td>West Godavari</td>\n",
       "      <td>4547</td>\n",
       "      <td>East Godavari</td>\n",
       "      <td>6362</td>\n",
       "      <td>West Godavari</td>\n",
       "    </tr>\n",
       "  </tbody>\n",
       "</table>\n",
       "</div>"
      ],
      "text/plain": [
       "    Year Total_Rape_Cases  Per_Day_Rape_Cases Highest_Rape_Case_District  \\\n",
       "0   2001              871            2.386301                 RangaReddy   \n",
       "1   2002             1002            2.745205                 Karimnagar   \n",
       "2   2003              946            2.591781              West godavari   \n",
       "3   2004             1016            2.783562                    Nellore   \n",
       "4   2005              935            2.561644                 Karimnagar   \n",
       "5   2006             1049            2.873973             Hyderabad city   \n",
       "6   2007             1070            2.931507             mahaboobanagar   \n",
       "7   2008             1257            3.443836              West Godavari   \n",
       "8   2009             1188            3.254795              West Godavari   \n",
       "9   2010             1362            3.731507              West Godavari   \n",
       "10  2011             1442            3.950685              West Godavari   \n",
       "11  2012             1341            3.673973              West Godavari   \n",
       "12  2013             1635            4.479452                  Cyberabad   \n",
       "13  2014              961            2.632877              West Godavari   \n",
       "\n",
       "   Kills_with_doubt_on_women Highest_kills_district Cruelty_by_husband  \\\n",
       "0                       3544             Karimnagar               5791   \n",
       "1                       3799             Karimnagar               7018   \n",
       "2                       4128          West godavari               8167   \n",
       "3                       3817             Karimnagar               8388   \n",
       "4                       3595             Karimnagar               8696   \n",
       "5                       4534             Karimnagar               9164   \n",
       "6                       4406                Kurnool              11335   \n",
       "7                       4730                Kurnool              10306   \n",
       "8                       5147                Kurnool              11297   \n",
       "9                       4634          West Godavari              12080   \n",
       "10                      4849          West Godavari              13376   \n",
       "11                      4816                Krishna              13389   \n",
       "12                      6930                Krishna              15084   \n",
       "13                      4547          East Godavari               6362   \n",
       "\n",
       "   Highest_cruelty_by_husband_district  \n",
       "0                       Hyderabad city  \n",
       "1                           Vijayawada  \n",
       "2                           Vijayawada  \n",
       "3                       Hyderabad city  \n",
       "4                       Hyderabad city  \n",
       "5                       Hyderabad city  \n",
       "6                       Hyderabad city  \n",
       "7                       Hyderabad city  \n",
       "8                       Hyderabad city  \n",
       "9                       Hyderabad city  \n",
       "10                           Cyberabad  \n",
       "11                      hyderabad city  \n",
       "12                           Cyberabad  \n",
       "13                       West Godavari  "
      ]
     },
     "execution_count": 75,
     "metadata": {},
     "output_type": "execute_result"
    }
   ],
   "source": [
    "df"
   ]
  },
  {
   "cell_type": "markdown",
   "id": "8f4583e5",
   "metadata": {},
   "source": [
    "## Lets exclude 2014 which because AP and telangana were separated in that year!"
   ]
  },
  {
   "cell_type": "code",
   "execution_count": 76,
   "id": "3af51f93",
   "metadata": {},
   "outputs": [],
   "source": [
    "df = df.drop(13)"
   ]
  },
  {
   "cell_type": "code",
   "execution_count": 77,
   "id": "ed873c65",
   "metadata": {},
   "outputs": [],
   "source": [
    "x = []\n",
    "y = []\n",
    "for i in range(len(df['Year'])):\n",
    "    x.append(str(df['Year'][i]))\n",
    "    y.append(df['Total_Rape_Cases'][i])"
   ]
  },
  {
   "cell_type": "code",
   "execution_count": 78,
   "id": "971fa3f6",
   "metadata": {},
   "outputs": [
    {
     "data": {
      "text/plain": [
       "Text(0.5, 1.0, 'Bar Chart (Years vs Rape cases count)')"
      ]
     },
     "execution_count": 78,
     "metadata": {},
     "output_type": "execute_result"
    },
    {
     "data": {
      "image/png": "[encoded data removed]",
      "text/plain": [
       "<Figure size 1440x1440 with 1 Axes>"
      ]
     },
     "metadata": {
      "needs_background": "light"
     },
     "output_type": "display_data"
    }
   ],
   "source": [
    "plt.figure(figsize=(20,20))\n",
    "plt.bar(x, y, color=plt.cm.Set1(np.arange(len(x))))\n",
    "plt.xticks(rotation = 90)\n",
    "plt.xlabel('Years')\n",
    "plt.ylabel('Rape_count_in_each_year')\n",
    "plt.title(\"Bar Chart (Years vs Rape cases count)\")"
   ]
  },
  {
   "cell_type": "code",
   "execution_count": 79,
   "id": "4c16a4bc",
   "metadata": {},
   "outputs": [],
   "source": [
    "x = []\n",
    "y = []\n",
    "for i in (df1['STATE/UT'].unique()):\n",
    "    p = 0\n",
    "    for j in range(len(df1['STATE/UT'])):\n",
    "        if i == df1['STATE/UT'][j]:\n",
    "            p = p + df1['Rape'][j]\n",
    "    x.append(i)\n",
    "    y.append(p)"
   ]
  },
  {
   "cell_type": "code",
   "execution_count": 80,
   "id": "98d14fc7",
   "metadata": {
    "scrolled": true
   },
   "outputs": [
    {
     "data": {
      "text/plain": [
       "Text(0.5, 1.0, 'Bar Chart (States vs Rape cases count)')"
      ]
     },
     "execution_count": 80,
     "metadata": {},
     "output_type": "execute_result"
    },
    {
     "data": {
      "image/png": "[encoded data removed]",
      "text/plain": [
       "<Figure size 1440x1440 with 1 Axes>"
      ]
     },
     "metadata": {
      "needs_background": "light"
     },
     "output_type": "display_data"
    }
   ],
   "source": [
    "plt.figure(figsize=(20,20))\n",
    "plt.bar(x, y, color=plt.cm.Set1(np.arange(len(x))))\n",
    "plt.xticks(rotation = 90)\n",
    "plt.xlabel('INDIAN_STATES')\n",
    "plt.ylabel('Rape_count_in_each_year')\n",
    "plt.title(\"Bar Chart (States vs Rape cases count)\")"
   ]
  },
  {
   "cell_type": "markdown",
   "id": "4ff6c2c5",
   "metadata": {},
   "source": [
    "# -------------------------------Overall Cases in India from 2001----------------------------------"
   ]
  },
  {
   "cell_type": "code",
   "execution_count": 81,
   "id": "036e17c0",
   "metadata": {},
   "outputs": [],
   "source": [
    "column_names = ['Year', 'Total_rape_cases_across_india', 'Per_day_rape_cases','Per_hour_Rape_cases']"
   ]
  },
  {
   "cell_type": "code",
   "execution_count": 82,
   "id": "1d1574c1",
   "metadata": {},
   "outputs": [],
   "source": [
    "dfI = pd.DataFrame(columns = column_names)"
   ]
  },
  {
   "cell_type": "code",
   "execution_count": 83,
   "id": "896acd4f",
   "metadata": {},
   "outputs": [],
   "source": [
    "row = ['2001',sum(df1['Rape']),sum(df1['Rape'])/365,sum(df1['Rape'])/(365*24)]\n",
    "dfI = dfI.append(pd.Series(row, index=dfI.columns), ignore_index=True)\n",
    "row = ['2002',sum(df2['Rape']),sum(df2['Rape'])/365,sum(df2['Rape'])/(365*24)]\n",
    "dfI = dfI.append(pd.Series(row, index=dfI.columns), ignore_index=True)\n",
    "row = ['2003',sum(df3['Rape']),sum(df3['Rape'])/365,sum(df3['Rape'])/(365*24)]\n",
    "dfI = dfI.append(pd.Series(row, index=dfI.columns), ignore_index=True)"
   ]
  },
  {
   "cell_type": "code",
   "execution_count": 84,
   "id": "d22384ec",
   "metadata": {},
   "outputs": [],
   "source": [
    "row = ['2004',sum(df4['Rape']),sum(df4['Rape'])/365,sum(df4['Rape'])/(365*24)]\n",
    "dfI = dfI.append(pd.Series(row, index=dfI.columns), ignore_index=True)\n",
    "row = ['2005',sum(df5['Rape']),sum(df5['Rape'])/365,sum(df5['Rape'])/(365*24)]\n",
    "dfI = dfI.append(pd.Series(row, index=dfI.columns), ignore_index=True)\n",
    "row = ['2006',sum(df6['Rape']),sum(df6['Rape'])/365,sum(df6['Rape'])/(365*24)]\n",
    "dfI = dfI.append(pd.Series(row, index=dfI.columns), ignore_index=True)\n",
    "row = ['2007',sum(df7['Rape']),sum(df7['Rape'])/365,sum(df7['Rape'])/(365*24)]\n",
    "dfI = dfI.append(pd.Series(row, index=dfI.columns), ignore_index=True)\n",
    "row = ['2008',sum(df8['Rape']),sum(df8['Rape'])/365,sum(df8['Rape'])/(365*24)]\n",
    "dfI = dfI.append(pd.Series(row, index=dfI.columns), ignore_index=True)\n",
    "row = ['2009',sum(df9['Rape']),sum(df9['Rape'])/365,sum(df9['Rape'])/(365*24)]\n",
    "dfI = dfI.append(pd.Series(row, index=dfI.columns), ignore_index=True)"
   ]
  },
  {
   "cell_type": "code",
   "execution_count": 85,
   "id": "a2a3eb3c",
   "metadata": {},
   "outputs": [],
   "source": [
    "row = ['2010',sum(df10['Rape']),sum(df10['Rape'])/365,sum(df10['Rape'])/(365*24)]\n",
    "dfI = dfI.append(pd.Series(row, index=dfI.columns), ignore_index=True)\n",
    "row = ['2011',sum(df11['Rape']),sum(df11['Rape'])/365,sum(df11['Rape'])/(365*24)]\n",
    "dfI = dfI.append(pd.Series(row, index=dfI.columns), ignore_index=True)\n",
    "row = ['2012',sum(df12['Rape']),sum(df12['Rape'])/365,sum(df12['Rape'])/(365*24)]\n",
    "dfI = dfI.append(pd.Series(row, index=dfI.columns), ignore_index=True)\n",
    "row = ['2013',sum(df13['Rape']),sum(df13['Rape'])/365,sum(df13['Rape'])/(365*24)]\n",
    "dfI = dfI.append(pd.Series(row, index=dfI.columns), ignore_index=True)\n",
    "row = ['2014',sum(df14['Rape']),sum(df14['Rape'])/365,sum(df14['Rape'])/(365*24)]\n",
    "dfI = dfI.append(pd.Series(row, index=dfI.columns), ignore_index=True)"
   ]
  },
  {
   "cell_type": "code",
   "execution_count": 86,
   "id": "479e67d8",
   "metadata": {},
   "outputs": [
    {
     "data": {
      "text/html": [
       "<div>\n",
       "<style scoped>\n",
       "    .dataframe tbody tr th:only-of-type {\n",
       "        vertical-align: middle;\n",
       "    }\n",
       "\n",
       "    .dataframe tbody tr th {\n",
       "        vertical-align: top;\n",
       "    }\n",
       "\n",
       "    .dataframe thead th {\n",
       "        text-align: right;\n",
       "    }\n",
       "</style>\n",
       "<table border=\"1\" class=\"dataframe\">\n",
       "  <thead>\n",
       "    <tr style=\"text-align: right;\">\n",
       "      <th></th>\n",
       "      <th>Year</th>\n",
       "      <th>Total_rape_cases_across_india</th>\n",
       "      <th>Per_day_rape_cases</th>\n",
       "      <th>Per_hour_Rape_cases</th>\n",
       "    </tr>\n",
       "  </thead>\n",
       "  <tbody>\n",
       "    <tr>\n",
       "      <th>0</th>\n",
       "      <td>2001</td>\n",
       "      <td>32150</td>\n",
       "      <td>88.082192</td>\n",
       "      <td>3.670091</td>\n",
       "    </tr>\n",
       "    <tr>\n",
       "      <th>1</th>\n",
       "      <td>2002</td>\n",
       "      <td>32746</td>\n",
       "      <td>89.715068</td>\n",
       "      <td>3.738128</td>\n",
       "    </tr>\n",
       "    <tr>\n",
       "      <th>2</th>\n",
       "      <td>2003</td>\n",
       "      <td>31694</td>\n",
       "      <td>86.832877</td>\n",
       "      <td>3.618037</td>\n",
       "    </tr>\n",
       "    <tr>\n",
       "      <th>3</th>\n",
       "      <td>2004</td>\n",
       "      <td>36466</td>\n",
       "      <td>99.906849</td>\n",
       "      <td>4.162785</td>\n",
       "    </tr>\n",
       "    <tr>\n",
       "      <th>4</th>\n",
       "      <td>2005</td>\n",
       "      <td>36718</td>\n",
       "      <td>100.597260</td>\n",
       "      <td>4.191553</td>\n",
       "    </tr>\n",
       "    <tr>\n",
       "      <th>5</th>\n",
       "      <td>2006</td>\n",
       "      <td>38696</td>\n",
       "      <td>106.016438</td>\n",
       "      <td>4.417352</td>\n",
       "    </tr>\n",
       "    <tr>\n",
       "      <th>6</th>\n",
       "      <td>2007</td>\n",
       "      <td>41474</td>\n",
       "      <td>113.627397</td>\n",
       "      <td>4.734475</td>\n",
       "    </tr>\n",
       "    <tr>\n",
       "      <th>7</th>\n",
       "      <td>2008</td>\n",
       "      <td>42934</td>\n",
       "      <td>117.627397</td>\n",
       "      <td>4.901142</td>\n",
       "    </tr>\n",
       "    <tr>\n",
       "      <th>8</th>\n",
       "      <td>2009</td>\n",
       "      <td>42794</td>\n",
       "      <td>117.243836</td>\n",
       "      <td>4.885160</td>\n",
       "    </tr>\n",
       "    <tr>\n",
       "      <th>9</th>\n",
       "      <td>2010</td>\n",
       "      <td>44344</td>\n",
       "      <td>121.490411</td>\n",
       "      <td>5.062100</td>\n",
       "    </tr>\n",
       "    <tr>\n",
       "      <th>10</th>\n",
       "      <td>2011</td>\n",
       "      <td>48412</td>\n",
       "      <td>132.635616</td>\n",
       "      <td>5.526484</td>\n",
       "    </tr>\n",
       "    <tr>\n",
       "      <th>11</th>\n",
       "      <td>2012</td>\n",
       "      <td>49846</td>\n",
       "      <td>136.564384</td>\n",
       "      <td>5.690183</td>\n",
       "    </tr>\n",
       "    <tr>\n",
       "      <th>12</th>\n",
       "      <td>2013</td>\n",
       "      <td>67414</td>\n",
       "      <td>184.695890</td>\n",
       "      <td>7.695662</td>\n",
       "    </tr>\n",
       "    <tr>\n",
       "      <th>13</th>\n",
       "      <td>2014</td>\n",
       "      <td>73470</td>\n",
       "      <td>201.287671</td>\n",
       "      <td>8.386986</td>\n",
       "    </tr>\n",
       "  </tbody>\n",
       "</table>\n",
       "</div>"
      ],
      "text/plain": [
       "    Year Total_rape_cases_across_india  Per_day_rape_cases  \\\n",
       "0   2001                         32150           88.082192   \n",
       "1   2002                         32746           89.715068   \n",
       "2   2003                         31694           86.832877   \n",
       "3   2004                         36466           99.906849   \n",
       "4   2005                         36718          100.597260   \n",
       "5   2006                         38696          106.016438   \n",
       "6   2007                         41474          113.627397   \n",
       "7   2008                         42934          117.627397   \n",
       "8   2009                         42794          117.243836   \n",
       "9   2010                         44344          121.490411   \n",
       "10  2011                         48412          132.635616   \n",
       "11  2012                         49846          136.564384   \n",
       "12  2013                         67414          184.695890   \n",
       "13  2014                         73470          201.287671   \n",
       "\n",
       "    Per_hour_Rape_cases  \n",
       "0              3.670091  \n",
       "1              3.738128  \n",
       "2              3.618037  \n",
       "3              4.162785  \n",
       "4              4.191553  \n",
       "5              4.417352  \n",
       "6              4.734475  \n",
       "7              4.901142  \n",
       "8              4.885160  \n",
       "9              5.062100  \n",
       "10             5.526484  \n",
       "11             5.690183  \n",
       "12             7.695662  \n",
       "13             8.386986  "
      ]
     },
     "execution_count": 86,
     "metadata": {},
     "output_type": "execute_result"
    }
   ],
   "source": [
    "dfI"
   ]
  },
  {
   "cell_type": "code",
   "execution_count": 87,
   "id": "0bf44c4c",
   "metadata": {
    "scrolled": true
   },
   "outputs": [
    {
     "data": {
      "text/plain": [
       "Text(0.5, 1.0, 'Bar Chart (Years vs Rape_cases_count)')"
      ]
     },
     "execution_count": 87,
     "metadata": {},
     "output_type": "execute_result"
    },
    {
     "data": {
      "image/png": "[encoded data removed]",
      "text/plain": [
       "<Figure size 1440x1440 with 1 Axes>"
      ]
     },
     "metadata": {
      "needs_background": "light"
     },
     "output_type": "display_data"
    }
   ],
   "source": [
    "x = dfI['Year']\n",
    "y = dfI['Per_day_rape_cases']\n",
    "colors = ['red', 'blue', 'green', 'yellow', 'orange', \n",
    "          'purple', 'pink', 'brown', 'gray', 'black', 'khaki', 'teal', 'magenta', 'navy']\n",
    "plt.figure(figsize=(20,20))\n",
    "plt.bar(x,y,color = colors)\n",
    "plt.xticks(rotation = 90)\n",
    "plt.xlabel('Years')\n",
    "plt.ylabel('Rape_count_in_each_day_across_India')\n",
    "plt.title(\"Bar Chart (Years vs Rape_cases_count)\")"
   ]
  },
  {
   "cell_type": "code",
   "execution_count": 88,
   "id": "9fb4d9bb",
   "metadata": {},
   "outputs": [
    {
     "name": "stdout",
     "output_type": "stream",
     "text": [
      "{1, 2, 3}\n"
     ]
    }
   ],
   "source": [
    "guvi1 = {1, 2, 3}\n",
    "\n",
    "guvi2 = guvi1.copy()\n",
    "\n",
    "guvi2.add(4)\n",
    "\n",
    "print(guvi1)"
   ]
  },
  {
   "cell_type": "code",
   "execution_count": 92,
   "id": "e1e4899e",
   "metadata": {},
   "outputs": [
    {
     "name": "stdout",
     "output_type": "stream",
     "text": [
      "4\n",
      "7\n",
      "11\n",
      "15\n"
     ]
    }
   ],
   "source": [
    "arr = [[1, 2, 3, 4], [4, 5, 6, 7], [8, 9, 10, 11], [12, 13, 14, 15]]\n",
    "\n",
    "for i in range(0, 4):\n",
    "\n",
    "    print(arr[i].pop())"
   ]
  },
  {
   "cell_type": "code",
   "execution_count": null,
   "id": "b4c66bd1",
   "metadata": {},
   "outputs": [],
   "source": []
  }
 ],
 "metadata": {
  "kernelspec": {
   "display_name": "Python 3 (ipykernel)",
   "language": "python",
   "name": "python3"
  },
  "language_info": {
   "codemirror_mode": {
    "name": "ipython",
    "version": 3
   },
   "file_extension": ".py",
   "mimetype": "text/x-python",
   "name": "python",
   "nbconvert_exporter": "python",
   "pygments_lexer": "ipython3",
   "version": "3.7.9"
  }
 },
 "nbformat": 4,
 "nbformat_minor": 5
}
